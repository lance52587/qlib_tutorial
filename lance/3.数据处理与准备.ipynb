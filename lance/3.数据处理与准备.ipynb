{
 "cells": [
  {
   "cell_type": "code",
   "outputs": [],
   "source": [
    "import os\n",
    "\n",
    "os.environ[\"http_proxy\"] = \"http://localhost:7890\"\n",
    "os.environ[\"https_proxy\"] = \"http://localhost:7890\""
   ],
   "metadata": {
    "collapsed": false,
    "ExecuteTime": {
     "end_time": "2024-03-05T12:18:12.985050Z",
     "start_time": "2024-03-05T12:18:12.978052Z"
    }
   },
   "id": "b914dabc4cabfbe5",
   "execution_count": 7
  },
  {
   "cell_type": "markdown",
   "source": [
    "3.2获取金融市场数据\n",
    "\n",
    "3.2.1下载数据到指定目录\n",
    "\n",
    "使用Qlib内置的数据源并下载到本地目录，用于后续研究使用："
   ],
   "metadata": {
    "collapsed": false
   },
   "id": "b8c7549c736dffa3"
  },
  {
   "cell_type": "code",
   "outputs": [
    {
     "name": "stderr",
     "output_type": "stream",
     "text": [
      "[15916:MainThread](2024-03-05 22:01:27,950) INFO - qlib.Initialization - [config.py:416] - default_conf: client.\n",
      "[15916:MainThread](2024-03-05 22:01:27,953) INFO - qlib.Initialization - [__init__.py:74] - qlib successfully initialized based on client settings.\n",
      "[15916:MainThread](2024-03-05 22:01:27,954) INFO - qlib.Initialization - [__init__.py:76] - data_path={'__DEFAULT_FREQ': WindowsPath('H:/data/qlib/qlib_data/cn_data')}\n"
     ]
    }
   ],
   "source": [
    "import qlib\n",
    "# from qlib.contrib.model.pytorch_alstm_ts import ALSTM\n",
    "from qlib.constant import REG_CN\n",
    "import os\n",
    "# 忽略警告\n",
    "import warnings\n",
    "\n",
    "warnings.filterwarnings('ignore')\n",
    "\n",
    "data_uri = ':/data/qlib/qlib_data/cn_data'\n",
    "data_uri = 'H' + data_uri if os.path.exists('H' + data_uri) else 'E' + data_uri\n",
    "# GetData().qlib_data(target_dir=data_uri, region=REG_CN)\n",
    "qlib.init(provider_uri=data_uri, region=REG_CN)"
   ],
   "metadata": {
    "collapsed": false,
    "ExecuteTime": {
     "end_time": "2024-03-05T14:01:27.964026Z",
     "start_time": "2024-03-05T14:01:27.913970Z"
    }
   },
   "id": "2caf013d15feafaf",
   "execution_count": 9
  },
  {
   "cell_type": "markdown",
   "source": [
    "3.2.3数据核心模块类\n",
    "\n",
    "Qlib中关于数据主要有以下三个模块：\n",
    "\n",
    "Data Loader: 从数据源加载数据，数据源可以是已经转换为qlib内置格式的数据，也可以是其他外部数据；\n",
    "\n",
    "Data Handler: 对数据进行预处理，比如常见的缺失值、标准化等；\n",
    "\n",
    "Dataset: 为模型的训练准备数据，类似Pytorch中的Dataset。\n",
    "\n",
    "1)QlibDataLoader"
   ],
   "metadata": {
    "collapsed": false
   },
   "id": "9dfa3888c8fbf301"
  },
  {
   "cell_type": "code",
   "outputs": [
    {
     "data": {
      "text/plain": "                             open        high         low       close  \\\ndatetime   instrument                                                   \n2009-01-05 SH600519     14.088112   14.291379   13.766463   13.944010   \n2009-01-06 SH600519     13.830784   14.049516   13.545165   13.986463   \n2009-01-07 SH600519     14.013484   14.023776   13.727865   13.739442   \n2009-01-08 SH600519     13.541313   13.968466   13.406219   13.963312   \n2009-01-09 SH600519     13.841075   13.965878   13.766464   13.803778   \n...                           ...         ...         ...         ...   \n2020-09-21 SH600519    360.617889  360.617889  355.057648  355.087494   \n2020-09-22 SH600519    351.508484  359.386536  351.508484  354.850983   \n2020-09-23 SH600519    348.312958  354.919189  345.334717  351.504211   \n2020-09-24 SH600519    348.519592  353.400238  346.566071  347.102905   \n2020-09-25 SH600519    347.247772  351.508484  346.182587  348.336365   \n\n                           volume    change    factor       EMA10       EMA30  \\\ndatetime   instrument                                                           \n2009-01-05 SH600519    10497168.0 -0.002944  0.171244   14.129837   14.297894   \n2009-01-06 SH600519    29655306.0  0.003045  0.171245   14.100548   14.274892   \n2009-01-07 SH600519    11843768.0 -0.017661  0.171244   14.028399   14.235709   \n2009-01-08 SH600519    14483822.0  0.016294  0.171245   14.015625   14.215948   \n2009-01-09 SH600519     9171688.0 -0.011425  0.171244   13.974638   14.186284   \n...                           ...       ...       ...         ...         ...   \n2020-09-21 SH600519    10535369.0 -0.016637  0.213035  364.378723  363.418030   \n2020-09-22 SH600519    10920939.0 -0.000666  0.213035  362.646393  362.865326   \n2020-09-23 SH600519    16769754.0 -0.009432  0.213035  360.620544  362.132355   \n2020-09-24 SH600519    14106000.0 -0.012521  0.213035  358.162781  361.162720   \n2020-09-25 SH600519    10600565.0  0.003554  0.213035  356.376160  360.335205   \n\n                         raw_close  \ndatetime   instrument               \n2009-01-05 SH600519      81.427505  \n2009-01-06 SH600519      81.675400  \n2009-01-07 SH600519      80.232903  \n2009-01-08 SH600519      81.540199  \n2009-01-09 SH600519      80.608597  \n...                            ...  \n2020-09-21 SH600519    1666.800049  \n2020-09-22 SH600519    1665.689819  \n2020-09-23 SH600519    1649.979858  \n2020-09-24 SH600519    1629.319946  \n2020-09-25 SH600519    1635.109863  \n\n[2807 rows x 10 columns]",
      "text/html": "<div>\n<style scoped>\n    .dataframe tbody tr th:only-of-type {\n        vertical-align: middle;\n    }\n\n    .dataframe tbody tr th {\n        vertical-align: top;\n    }\n\n    .dataframe thead th {\n        text-align: right;\n    }\n</style>\n<table border=\"1\" class=\"dataframe\">\n  <thead>\n    <tr style=\"text-align: right;\">\n      <th></th>\n      <th></th>\n      <th>open</th>\n      <th>high</th>\n      <th>low</th>\n      <th>close</th>\n      <th>volume</th>\n      <th>change</th>\n      <th>factor</th>\n      <th>EMA10</th>\n      <th>EMA30</th>\n      <th>raw_close</th>\n    </tr>\n    <tr>\n      <th>datetime</th>\n      <th>instrument</th>\n      <th></th>\n      <th></th>\n      <th></th>\n      <th></th>\n      <th></th>\n      <th></th>\n      <th></th>\n      <th></th>\n      <th></th>\n      <th></th>\n    </tr>\n  </thead>\n  <tbody>\n    <tr>\n      <th>2009-01-05</th>\n      <th>SH600519</th>\n      <td>14.088112</td>\n      <td>14.291379</td>\n      <td>13.766463</td>\n      <td>13.944010</td>\n      <td>10497168.0</td>\n      <td>-0.002944</td>\n      <td>0.171244</td>\n      <td>14.129837</td>\n      <td>14.297894</td>\n      <td>81.427505</td>\n    </tr>\n    <tr>\n      <th>2009-01-06</th>\n      <th>SH600519</th>\n      <td>13.830784</td>\n      <td>14.049516</td>\n      <td>13.545165</td>\n      <td>13.986463</td>\n      <td>29655306.0</td>\n      <td>0.003045</td>\n      <td>0.171245</td>\n      <td>14.100548</td>\n      <td>14.274892</td>\n      <td>81.675400</td>\n    </tr>\n    <tr>\n      <th>2009-01-07</th>\n      <th>SH600519</th>\n      <td>14.013484</td>\n      <td>14.023776</td>\n      <td>13.727865</td>\n      <td>13.739442</td>\n      <td>11843768.0</td>\n      <td>-0.017661</td>\n      <td>0.171244</td>\n      <td>14.028399</td>\n      <td>14.235709</td>\n      <td>80.232903</td>\n    </tr>\n    <tr>\n      <th>2009-01-08</th>\n      <th>SH600519</th>\n      <td>13.541313</td>\n      <td>13.968466</td>\n      <td>13.406219</td>\n      <td>13.963312</td>\n      <td>14483822.0</td>\n      <td>0.016294</td>\n      <td>0.171245</td>\n      <td>14.015625</td>\n      <td>14.215948</td>\n      <td>81.540199</td>\n    </tr>\n    <tr>\n      <th>2009-01-09</th>\n      <th>SH600519</th>\n      <td>13.841075</td>\n      <td>13.965878</td>\n      <td>13.766464</td>\n      <td>13.803778</td>\n      <td>9171688.0</td>\n      <td>-0.011425</td>\n      <td>0.171244</td>\n      <td>13.974638</td>\n      <td>14.186284</td>\n      <td>80.608597</td>\n    </tr>\n    <tr>\n      <th>...</th>\n      <th>...</th>\n      <td>...</td>\n      <td>...</td>\n      <td>...</td>\n      <td>...</td>\n      <td>...</td>\n      <td>...</td>\n      <td>...</td>\n      <td>...</td>\n      <td>...</td>\n      <td>...</td>\n    </tr>\n    <tr>\n      <th>2020-09-21</th>\n      <th>SH600519</th>\n      <td>360.617889</td>\n      <td>360.617889</td>\n      <td>355.057648</td>\n      <td>355.087494</td>\n      <td>10535369.0</td>\n      <td>-0.016637</td>\n      <td>0.213035</td>\n      <td>364.378723</td>\n      <td>363.418030</td>\n      <td>1666.800049</td>\n    </tr>\n    <tr>\n      <th>2020-09-22</th>\n      <th>SH600519</th>\n      <td>351.508484</td>\n      <td>359.386536</td>\n      <td>351.508484</td>\n      <td>354.850983</td>\n      <td>10920939.0</td>\n      <td>-0.000666</td>\n      <td>0.213035</td>\n      <td>362.646393</td>\n      <td>362.865326</td>\n      <td>1665.689819</td>\n    </tr>\n    <tr>\n      <th>2020-09-23</th>\n      <th>SH600519</th>\n      <td>348.312958</td>\n      <td>354.919189</td>\n      <td>345.334717</td>\n      <td>351.504211</td>\n      <td>16769754.0</td>\n      <td>-0.009432</td>\n      <td>0.213035</td>\n      <td>360.620544</td>\n      <td>362.132355</td>\n      <td>1649.979858</td>\n    </tr>\n    <tr>\n      <th>2020-09-24</th>\n      <th>SH600519</th>\n      <td>348.519592</td>\n      <td>353.400238</td>\n      <td>346.566071</td>\n      <td>347.102905</td>\n      <td>14106000.0</td>\n      <td>-0.012521</td>\n      <td>0.213035</td>\n      <td>358.162781</td>\n      <td>361.162720</td>\n      <td>1629.319946</td>\n    </tr>\n    <tr>\n      <th>2020-09-25</th>\n      <th>SH600519</th>\n      <td>347.247772</td>\n      <td>351.508484</td>\n      <td>346.182587</td>\n      <td>348.336365</td>\n      <td>10600565.0</td>\n      <td>0.003554</td>\n      <td>0.213035</td>\n      <td>356.376160</td>\n      <td>360.335205</td>\n      <td>1635.109863</td>\n    </tr>\n  </tbody>\n</table>\n<p>2807 rows × 10 columns</p>\n</div>"
     },
     "execution_count": 8,
     "metadata": {},
     "output_type": "execute_result"
    }
   ],
   "source": [
    "from qlib.data.dataset.loader import QlibDataLoader\n",
    "\n",
    "# 除了直接加载原始特征，有时我们需要对不同的原始特征做一些运算生成新的特征，比如我们想计算收盘价的均线。这时我们可以使用qlib的算式表达式功能，直接在加载时进行计算\n",
    "QlibDataLoader(config=(\n",
    "    ['$open', '$high', '$low', '$close', '$volume', '$change', '$factor', 'EMA($close, 10)', 'EMA($close, 30)',\n",
    "     '$close/$factor'],\n",
    "    ['open', 'high', 'low', 'close', 'volume', 'change', 'factor', 'EMA10', 'EMA30', 'raw_close'])\n",
    ").load(instruments=['SH600519'], start_time='20090105', end_time='20200925')"
   ],
   "metadata": {
    "collapsed": false,
    "ExecuteTime": {
     "end_time": "2024-03-05T13:46:58.235953Z",
     "start_time": "2024-03-05T13:46:58.196923Z"
    }
   },
   "id": "2faa50f1a388cc90",
   "execution_count": 8
  },
  {
   "cell_type": "code",
   "outputs": [
    {
     "data": {
      "text/plain": "                           EMA10      EMA30\ndatetime   instrument                      \n2019-01-02 SH600000     7.092837   7.416340\n           SH600009    16.543882  16.482178\n           SH600010     5.285407   5.401525\n           SH600011     2.703071   2.677347\n           SH600015     5.976167   6.117362\n...                          ...        ...\n2019-01-10 SZ002415     8.722863   8.680843\n           SZ002450     5.595629   6.127040\n           SZ002594     2.021440   2.096986\n           SZ002736     1.119112   1.119617\n           SZ300059    10.143766  10.217589\n\n[700 rows x 2 columns]",
      "text/html": "<div>\n<style scoped>\n    .dataframe tbody tr th:only-of-type {\n        vertical-align: middle;\n    }\n\n    .dataframe tbody tr th {\n        vertical-align: top;\n    }\n\n    .dataframe thead th {\n        text-align: right;\n    }\n</style>\n<table border=\"1\" class=\"dataframe\">\n  <thead>\n    <tr style=\"text-align: right;\">\n      <th></th>\n      <th></th>\n      <th>EMA10</th>\n      <th>EMA30</th>\n    </tr>\n    <tr>\n      <th>datetime</th>\n      <th>instrument</th>\n      <th></th>\n      <th></th>\n    </tr>\n  </thead>\n  <tbody>\n    <tr>\n      <th rowspan=\"5\" valign=\"top\">2019-01-02</th>\n      <th>SH600000</th>\n      <td>7.092837</td>\n      <td>7.416340</td>\n    </tr>\n    <tr>\n      <th>SH600009</th>\n      <td>16.543882</td>\n      <td>16.482178</td>\n    </tr>\n    <tr>\n      <th>SH600010</th>\n      <td>5.285407</td>\n      <td>5.401525</td>\n    </tr>\n    <tr>\n      <th>SH600011</th>\n      <td>2.703071</td>\n      <td>2.677347</td>\n    </tr>\n    <tr>\n      <th>SH600015</th>\n      <td>5.976167</td>\n      <td>6.117362</td>\n    </tr>\n    <tr>\n      <th>...</th>\n      <th>...</th>\n      <td>...</td>\n      <td>...</td>\n    </tr>\n    <tr>\n      <th rowspan=\"5\" valign=\"top\">2019-01-10</th>\n      <th>SZ002415</th>\n      <td>8.722863</td>\n      <td>8.680843</td>\n    </tr>\n    <tr>\n      <th>SZ002450</th>\n      <td>5.595629</td>\n      <td>6.127040</td>\n    </tr>\n    <tr>\n      <th>SZ002594</th>\n      <td>2.021440</td>\n      <td>2.096986</td>\n    </tr>\n    <tr>\n      <th>SZ002736</th>\n      <td>1.119112</td>\n      <td>1.119617</td>\n    </tr>\n    <tr>\n      <th>SZ300059</th>\n      <td>10.143766</td>\n      <td>10.217589</td>\n    </tr>\n  </tbody>\n</table>\n<p>700 rows × 2 columns</p>\n</div>"
     },
     "execution_count": 15,
     "metadata": {},
     "output_type": "execute_result"
    }
   ],
   "source": [
    "# instruments可以是个股代码（返回时序数据）或股票池代码（返回面板数据）\n",
    "QlibDataLoader(config=(\n",
    "    ['EMA($close, 10)', 'EMA($close, 30)'],\n",
    "    ['EMA10', 'EMA30'])\n",
    ").load(instruments='csi100',  # 沪深300股票池代码，在instruments文件夹下有对应的sh000300.txt\n",
    "       start_time='20190101', end_time='20190110')"
   ],
   "metadata": {
    "collapsed": false,
    "ExecuteTime": {
     "end_time": "2024-03-05T14:03:50.518282Z",
     "start_time": "2024-03-05T14:03:35.503644Z"
    }
   },
   "id": "3057db333992c719",
   "execution_count": 15
  },
  {
   "cell_type": "markdown",
   "source": [
    "qlib把类似“EMA”称为算子（operator），qlib中全部支持的算子可以在以下源码中找到：/qlib/data/ops.py中，主要有：\n",
    "\n",
    "ChangeInstrument, Rolling, Ref, Max, Min, Sum, Mean, Std, Var, Skew, Kurt, Med, Mad, Slope, Rsquare, Resi, Rank, Quantile, Count, EMA, WMA, Corr, Cov, Delta, Abs, Sign, Log, Power, Add, Sub, Mul, Div, Greater, Less, And, Or, Not, Gt, Ge, Lt, Le, Eq, Ne, Mask, IdxMax, IdxMin, If, Feature, PFeature，\n",
    "\n",
    "\n"
   ],
   "metadata": {
    "collapsed": false
   },
   "id": "ca214becabc7fc9"
  },
  {
   "cell_type": "code",
   "outputs": [
    {
     "data": {
      "text/plain": "                         feature                label\n                           EMA10      EMA30  next_ret\ndatetime   instrument                                \n2019-01-02 SH600000     7.092837   7.416340  0.011340\n           SH600009    16.543882  16.482178 -0.013497\n           SH600010     5.285407   5.401525  0.013605\n           SH600011     2.703071   2.677347 -0.026426\n           SH600015     5.976167   6.117362  0.005472\n...                          ...        ...       ...\n2019-01-10 SZ002415     8.722863   8.680843  0.004236\n           SZ002450     5.595629   6.127040 -0.033163\n           SZ002594     2.021440   2.096986  0.003480\n           SZ002736     1.119112   1.119617  0.001148\n           SZ300059    10.143766  10.217589  0.011990\n\n[700 rows x 3 columns]",
      "text/html": "<div>\n<style scoped>\n    .dataframe tbody tr th:only-of-type {\n        vertical-align: middle;\n    }\n\n    .dataframe tbody tr th {\n        vertical-align: top;\n    }\n\n    .dataframe thead tr th {\n        text-align: left;\n    }\n\n    .dataframe thead tr:last-of-type th {\n        text-align: right;\n    }\n</style>\n<table border=\"1\" class=\"dataframe\">\n  <thead>\n    <tr>\n      <th></th>\n      <th></th>\n      <th colspan=\"2\" halign=\"left\">feature</th>\n      <th>label</th>\n    </tr>\n    <tr>\n      <th></th>\n      <th></th>\n      <th>EMA10</th>\n      <th>EMA30</th>\n      <th>next_ret</th>\n    </tr>\n    <tr>\n      <th>datetime</th>\n      <th>instrument</th>\n      <th></th>\n      <th></th>\n      <th></th>\n    </tr>\n  </thead>\n  <tbody>\n    <tr>\n      <th rowspan=\"5\" valign=\"top\">2019-01-02</th>\n      <th>SH600000</th>\n      <td>7.092837</td>\n      <td>7.416340</td>\n      <td>0.011340</td>\n    </tr>\n    <tr>\n      <th>SH600009</th>\n      <td>16.543882</td>\n      <td>16.482178</td>\n      <td>-0.013497</td>\n    </tr>\n    <tr>\n      <th>SH600010</th>\n      <td>5.285407</td>\n      <td>5.401525</td>\n      <td>0.013605</td>\n    </tr>\n    <tr>\n      <th>SH600011</th>\n      <td>2.703071</td>\n      <td>2.677347</td>\n      <td>-0.026426</td>\n    </tr>\n    <tr>\n      <th>SH600015</th>\n      <td>5.976167</td>\n      <td>6.117362</td>\n      <td>0.005472</td>\n    </tr>\n    <tr>\n      <th>...</th>\n      <th>...</th>\n      <td>...</td>\n      <td>...</td>\n      <td>...</td>\n    </tr>\n    <tr>\n      <th rowspan=\"5\" valign=\"top\">2019-01-10</th>\n      <th>SZ002415</th>\n      <td>8.722863</td>\n      <td>8.680843</td>\n      <td>0.004236</td>\n    </tr>\n    <tr>\n      <th>SZ002450</th>\n      <td>5.595629</td>\n      <td>6.127040</td>\n      <td>-0.033163</td>\n    </tr>\n    <tr>\n      <th>SZ002594</th>\n      <td>2.021440</td>\n      <td>2.096986</td>\n      <td>0.003480</td>\n    </tr>\n    <tr>\n      <th>SZ002736</th>\n      <td>1.119112</td>\n      <td>1.119617</td>\n      <td>0.001148</td>\n    </tr>\n    <tr>\n      <th>SZ300059</th>\n      <td>10.143766</td>\n      <td>10.217589</td>\n      <td>0.011990</td>\n    </tr>\n  </tbody>\n</table>\n<p>700 rows × 3 columns</p>\n</div>"
     },
     "execution_count": 16,
     "metadata": {},
     "output_type": "execute_result"
    }
   ],
   "source": [
    "# 有时我们需要对计算的数据进行分组，最常用的是分为特征组“feature”和“label”组，此时我们可以传入dict格式的参数至config中\n",
    "QlibDataLoader(config={\n",
    "    'feature': (\n",
    "        ['EMA($close, 10)', 'EMA($close, 30)'],\n",
    "        ['EMA10', 'EMA30']),\n",
    "    'label': (\n",
    "        [\"Ref($close, -1)/$close-1\"],\n",
    "        ['next_ret'])}\n",
    ").load(instruments='csi100', start_time='20190101', end_time='20190110')"
   ],
   "metadata": {
    "collapsed": false,
    "ExecuteTime": {
     "end_time": "2024-03-05T14:04:19.745527Z",
     "start_time": "2024-03-05T14:03:50.519253Z"
    }
   },
   "id": "410bdcb5ba632db6",
   "execution_count": 16
  },
  {
   "cell_type": "markdown",
   "source": [
    "2）Data Handler\n",
    "\n",
    "通过Data Loader加载特征后，模型训练前需要对特征数据进行一些预处理，比如缺失值、标准化等处理。这是Data Handler主要任务。我们先看一个案例：\n",
    "\n"
   ],
   "metadata": {
    "collapsed": false
   },
   "id": "bd21de32f4209cd8"
  },
  {
   "cell_type": "code",
   "outputs": [
    {
     "name": "stdout",
     "output_type": "stream",
     "text": [
      "Return    12\n",
      "dtype: int64\n"
     ]
    },
    {
     "name": "stderr",
     "output_type": "stream",
     "text": [
      "[15916:MainThread](2024-03-05 22:17:43,000) INFO - qlib.timer - [log.py:127] - Time cost: 14.057s | Loading data Done\n",
      "[15916:MainThread](2024-03-05 22:17:43,003) INFO - qlib.timer - [log.py:127] - Time cost: 0.002s | DropnaProcessor Done\n",
      "[15916:MainThread](2024-03-05 22:17:43,013) INFO - qlib.timer - [log.py:127] - Time cost: 0.010s | CSZScoreNorm Done\n",
      "[15916:MainThread](2024-03-05 22:17:43,014) INFO - qlib.timer - [log.py:127] - Time cost: 0.013s | fit & process data Done\n",
      "[15916:MainThread](2024-03-05 22:17:43,015) INFO - qlib.timer - [log.py:127] - Time cost: 14.072s | Init data Done\n"
     ]
    },
    {
     "name": "stdout",
     "output_type": "stream",
     "text": [
      "Return    0\n",
      "dtype: int64\n"
     ]
    },
    {
     "data": {
      "text/plain": "array([[<Axes: title={'center': 'Return'}>]], dtype=object)"
     },
     "execution_count": 18,
     "metadata": {},
     "output_type": "execute_result"
    },
    {
     "data": {
      "text/plain": "<Figure size 640x480 with 1 Axes>",
      "image/png": "[encoded data removed]"
     },
     "metadata": {},
     "output_type": "display_data"
    },
    {
     "data": {
      "text/plain": "<Figure size 640x480 with 1 Axes>",
      "image/png": "[encoded data removed]"
     },
     "metadata": {},
     "output_type": "display_data"
    }
   ],
   "source": [
    "from qlib.data.dataset.handler import DataHandlerLP\n",
    "from qlib.data.dataset.processor import CSZScoreNorm, DropnaProcessor\n",
    "\n",
    "##################################\n",
    "qdl = QlibDataLoader(config=(['$close/Ref($close, 1)-1'], ['Return']))\n",
    "df = qdl.load(instruments='csi100', start_time='20190101', end_time='20190110')\n",
    "# 是否有空值\n",
    "print(df.isna().sum())\n",
    "# 原始数据分布\n",
    "df.xs('2019-01-10').hist()\n",
    "##################################\n",
    "dh = DataHandlerLP(  # DataHandler with (L)earnable (P)rocessor\n",
    "    instruments='csi100', start_time='20190101', end_time='20190110',\n",
    "    learn_processors=[DropnaProcessor(), CSZScoreNorm()],  # 先去空值，再截面标准化\n",
    "    data_loader=qdl)\n",
    "#     - DK_R / self._data: the raw data loaded from the loader\n",
    "#     - DK_I / self._infer: the data processed for inference\n",
    "#     - DK_L / self._learn: the data processed for learning model.\n",
    "df_hdl = dh.fetch(data_key=DataHandlerLP.DK_L)  # (D)ata (K)ey 'learn'\n",
    "# 查看是否还存在空值\n",
    "print(df_hdl.isna().sum())\n",
    "# CSZScoreNorm截面标准化处理后的数据分布\n",
    "df_hdl.xs('2019-01-10').hist()"
   ],
   "metadata": {
    "collapsed": false,
    "ExecuteTime": {
     "end_time": "2024-03-05T14:17:43.342555Z",
     "start_time": "2024-03-05T14:17:14.687832Z"
    }
   },
   "id": "9a62fef309bdc220",
   "execution_count": 18
  },
  {
   "cell_type": "markdown",
   "source": [
    "从以上的例子可以看出，实例化Data Handler需要以下几个参数：\n",
    "\n",
    "基本信息，如instruments，start_time，end_time\n",
    "\n",
    "infer_processors，数据处理器，列表格式。由Dataloader加载的数据会依次经过该列表中的processor进行处理。（后面会详细介绍）\n",
    "\n",
    "data_loader，数据加载器实例。\n",
    "\n",
    "Data Handler实例化之后，通过fetch方法获取处理后的数据，这里的参数DataHandlerLP.DK_L会在Learn Processor VS Infer Processor详细介绍。\n",
    "\n",
    "3）Dataset\n",
    "\n",
    "Dataset主要是为模型训练注入数据，其中主要的参数有：\n",
    "\n",
    "handler：实例化的Data Handler\n",
    "\n",
    "segment：训练、验证、测试数据集的划分\n",
    "\n",
    "一个完整的代码示例如下："
   ],
   "metadata": {
    "collapsed": false
   },
   "id": "424295c6ff2280df"
  },
  {
   "cell_type": "code",
   "outputs": [
    {
     "name": "stderr",
     "output_type": "stream",
     "text": [
      "[15916:MainThread](2024-03-05 23:03:00,756) INFO - qlib.timer - [log.py:127] - Time cost: 28.692s | Loading data Done\n",
      "[15916:MainThread](2024-03-05 23:03:00,763) INFO - qlib.timer - [log.py:127] - Time cost: 0.005s | DropnaProcessor Done\n",
      "[15916:MainThread](2024-03-05 23:03:00,822) INFO - qlib.timer - [log.py:127] - Time cost: 0.056s | ZScoreNorm Done\n",
      "[15916:MainThread](2024-03-05 23:03:01,927) INFO - qlib.timer - [log.py:127] - Time cost: 1.103s | CSZScoreNorm Done\n",
      "[15916:MainThread](2024-03-05 23:03:01,928) INFO - qlib.timer - [log.py:127] - Time cost: 1.170s | fit & process data Done\n",
      "[15916:MainThread](2024-03-05 23:03:01,929) INFO - qlib.timer - [log.py:127] - Time cost: 29.865s | Init data Done\n"
     ]
    },
    {
     "data": {
      "text/plain": "                          EMA10     EMA30  next_ret\ndatetime   instrument                              \n2016-01-04 SH600000   -0.120305 -0.120022  0.469636\n           SH600010   -0.119592 -0.118803  1.274610\n           SH600011   -0.140072 -0.140143 -0.120704\n           SH600015   -0.124963 -0.125563  0.276519\n           SH600016   -0.099245 -0.100489  0.520611\n...                         ...       ...       ...\n2018-12-28 SZ002415   -0.121156 -0.120752 -0.216053\n           SZ002450   -0.129216 -0.127331 -2.704178\n           SZ002594   -0.142672 -0.142801 -1.851776\n           SZ002736   -0.146067 -0.146235 -0.427841\n           SZ300059   -0.116066 -0.115437 -1.064005\n\n[68157 rows x 3 columns]",
      "text/html": "<div>\n<style scoped>\n    .dataframe tbody tr th:only-of-type {\n        vertical-align: middle;\n    }\n\n    .dataframe tbody tr th {\n        vertical-align: top;\n    }\n\n    .dataframe thead th {\n        text-align: right;\n    }\n</style>\n<table border=\"1\" class=\"dataframe\">\n  <thead>\n    <tr style=\"text-align: right;\">\n      <th></th>\n      <th></th>\n      <th>EMA10</th>\n      <th>EMA30</th>\n      <th>next_ret</th>\n    </tr>\n    <tr>\n      <th>datetime</th>\n      <th>instrument</th>\n      <th></th>\n      <th></th>\n      <th></th>\n    </tr>\n  </thead>\n  <tbody>\n    <tr>\n      <th rowspan=\"5\" valign=\"top\">2016-01-04</th>\n      <th>SH600000</th>\n      <td>-0.120305</td>\n      <td>-0.120022</td>\n      <td>0.469636</td>\n    </tr>\n    <tr>\n      <th>SH600010</th>\n      <td>-0.119592</td>\n      <td>-0.118803</td>\n      <td>1.274610</td>\n    </tr>\n    <tr>\n      <th>SH600011</th>\n      <td>-0.140072</td>\n      <td>-0.140143</td>\n      <td>-0.120704</td>\n    </tr>\n    <tr>\n      <th>SH600015</th>\n      <td>-0.124963</td>\n      <td>-0.125563</td>\n      <td>0.276519</td>\n    </tr>\n    <tr>\n      <th>SH600016</th>\n      <td>-0.099245</td>\n      <td>-0.100489</td>\n      <td>0.520611</td>\n    </tr>\n    <tr>\n      <th>...</th>\n      <th>...</th>\n      <td>...</td>\n      <td>...</td>\n      <td>...</td>\n    </tr>\n    <tr>\n      <th rowspan=\"5\" valign=\"top\">2018-12-28</th>\n      <th>SZ002415</th>\n      <td>-0.121156</td>\n      <td>-0.120752</td>\n      <td>-0.216053</td>\n    </tr>\n    <tr>\n      <th>SZ002450</th>\n      <td>-0.129216</td>\n      <td>-0.127331</td>\n      <td>-2.704178</td>\n    </tr>\n    <tr>\n      <th>SZ002594</th>\n      <td>-0.142672</td>\n      <td>-0.142801</td>\n      <td>-1.851776</td>\n    </tr>\n    <tr>\n      <th>SZ002736</th>\n      <td>-0.146067</td>\n      <td>-0.146235</td>\n      <td>-0.427841</td>\n    </tr>\n    <tr>\n      <th>SZ300059</th>\n      <td>-0.116066</td>\n      <td>-0.115437</td>\n      <td>-1.064005</td>\n    </tr>\n  </tbody>\n</table>\n<p>68157 rows × 3 columns</p>\n</div>"
     },
     "execution_count": 19,
     "metadata": {},
     "output_type": "execute_result"
    }
   ],
   "source": [
    "from qlib.data.dataset.processor import ZScoreNorm\n",
    "from qlib.data.dataset import DatasetH\n",
    "\n",
    "market = 'csi100'\n",
    "qdl_ma_gp = QlibDataLoader(config={\n",
    "    'feature': (\n",
    "        ['EMA($close, 10)', 'EMA($close, 30)'],\n",
    "        ['EMA10', 'EMA30']),\n",
    "    'label': (\n",
    "        [\"Ref($close, -1)/$close-1\"],  # Ref($close, -1)表示下一日收盘价\n",
    "        ['next_ret'])})  # 下一日收益率\n",
    "dh_pr_test = DataHandlerLP(\n",
    "    instruments='csi100',\n",
    "    start_time='20160101',\n",
    "    end_time='20191231',\n",
    "    process_type=DataHandlerLP.PTYPE_I,\n",
    "    # PTYPE_I = \"independent\"\n",
    "    # # - self._infer will be processed by shared_processors + infer_processors\n",
    "    # # - self._learn will be processed by shared_processors + learn_processors\n",
    "    # PTYPE_A = \"append\"\n",
    "    # # - self._infer will be processed by shared_processors + infer_processors\n",
    "    # # - self._learn will be processed by shared_processors + infer_processors + learn_processors    \n",
    "    infer_processors=[ZScoreNorm(fit_start_time='20160101', fit_end_time='20181231')],\n",
    "    # processor that applies z-score normalization\n",
    "    learn_processors=[CSZScoreNorm()],  # processor that applies cross sectional z-score normalization\n",
    "    shared_processors=[DropnaProcessor()],\n",
    "    data_loader=qdl_ma_gp)\n",
    "ds = DatasetH(dh_pr_test, segments={\"train\": ('20160101', '20181231'), \"test\": ('20190101', '20191231')})\n",
    "# 准备训练数据\n",
    "ds.prepare('train')"
   ],
   "metadata": {
    "collapsed": false,
    "ExecuteTime": {
     "end_time": "2024-03-05T15:03:01.953011Z",
     "start_time": "2024-03-05T15:02:32.040983Z"
    }
   },
   "id": "e01aba7f3cadfeca",
   "execution_count": 19
  },
  {
   "cell_type": "code",
   "outputs": [
    {
     "data": {
      "text/plain": "                          EMA10     EMA30  next_ret\ndatetime   instrument                              \n2019-01-02 SH600000   -0.125632 -0.124848  0.591682\n           SH600009   -0.094255 -0.094215 -0.693500\n           SH600010   -0.131899 -0.131677  0.708892\n           SH600011   -0.140658 -0.141039 -1.362451\n           SH600015   -0.129555 -0.129227  0.288035\n...                         ...       ...       ...\n2019-12-31 SZ002594   -0.143487 -0.143866  0.547622\n           SZ002736   -0.144432 -0.144773  1.530397\n           SZ300015   -0.083752 -0.082330 -0.073581\n           SZ300059   -0.099507 -0.100803  0.431442\n           SZ300498   -0.146499 -0.146646  1.098290\n\n[23969 rows x 3 columns]",
      "text/html": "<div>\n<style scoped>\n    .dataframe tbody tr th:only-of-type {\n        vertical-align: middle;\n    }\n\n    .dataframe tbody tr th {\n        vertical-align: top;\n    }\n\n    .dataframe thead th {\n        text-align: right;\n    }\n</style>\n<table border=\"1\" class=\"dataframe\">\n  <thead>\n    <tr style=\"text-align: right;\">\n      <th></th>\n      <th></th>\n      <th>EMA10</th>\n      <th>EMA30</th>\n      <th>next_ret</th>\n    </tr>\n    <tr>\n      <th>datetime</th>\n      <th>instrument</th>\n      <th></th>\n      <th></th>\n      <th></th>\n    </tr>\n  </thead>\n  <tbody>\n    <tr>\n      <th rowspan=\"5\" valign=\"top\">2019-01-02</th>\n      <th>SH600000</th>\n      <td>-0.125632</td>\n      <td>-0.124848</td>\n      <td>0.591682</td>\n    </tr>\n    <tr>\n      <th>SH600009</th>\n      <td>-0.094255</td>\n      <td>-0.094215</td>\n      <td>-0.693500</td>\n    </tr>\n    <tr>\n      <th>SH600010</th>\n      <td>-0.131899</td>\n      <td>-0.131677</td>\n      <td>0.708892</td>\n    </tr>\n    <tr>\n      <th>SH600011</th>\n      <td>-0.140658</td>\n      <td>-0.141039</td>\n      <td>-1.362451</td>\n    </tr>\n    <tr>\n      <th>SH600015</th>\n      <td>-0.129555</td>\n      <td>-0.129227</td>\n      <td>0.288035</td>\n    </tr>\n    <tr>\n      <th>...</th>\n      <th>...</th>\n      <td>...</td>\n      <td>...</td>\n      <td>...</td>\n    </tr>\n    <tr>\n      <th rowspan=\"5\" valign=\"top\">2019-12-31</th>\n      <th>SZ002594</th>\n      <td>-0.143487</td>\n      <td>-0.143866</td>\n      <td>0.547622</td>\n    </tr>\n    <tr>\n      <th>SZ002736</th>\n      <td>-0.144432</td>\n      <td>-0.144773</td>\n      <td>1.530397</td>\n    </tr>\n    <tr>\n      <th>SZ300015</th>\n      <td>-0.083752</td>\n      <td>-0.082330</td>\n      <td>-0.073581</td>\n    </tr>\n    <tr>\n      <th>SZ300059</th>\n      <td>-0.099507</td>\n      <td>-0.100803</td>\n      <td>0.431442</td>\n    </tr>\n    <tr>\n      <th>SZ300498</th>\n      <td>-0.146499</td>\n      <td>-0.146646</td>\n      <td>1.098290</td>\n    </tr>\n  </tbody>\n</table>\n<p>23969 rows × 3 columns</p>\n</div>"
     },
     "execution_count": 20,
     "metadata": {},
     "output_type": "execute_result"
    }
   ],
   "source": [
    "# 准备测试数据\n",
    "ds.prepare('test')"
   ],
   "metadata": {
    "collapsed": false,
    "ExecuteTime": {
     "end_time": "2024-03-05T15:03:01.983935Z",
     "start_time": "2024-03-05T15:03:01.954823Z"
    }
   },
   "id": "ea1a32b0819bf939",
   "execution_count": 20
  }
 ],
 "metadata": {
  "kernelspec": {
   "name": "qlibenv",
   "language": "python",
   "display_name": "qlibenv"
  },
  "language_info": {
   "codemirror_mode": {
    "name": "ipython",
    "version": 2
   },
   "file_extension": ".py",
   "mimetype": "text/x-python",
   "name": "python",
   "nbconvert_exporter": "python",
   "pygments_lexer": "ipython2",
   "version": "2.7.6"
  }
 },
 "nbformat": 4,
 "nbformat_minor": 5
}
