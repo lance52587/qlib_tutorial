{
 "cells": [
  {
   "cell_type": "code",
   "outputs": [],
   "source": [
    "import os\n",
    "\n",
    "os.environ[\"http_proxy\"] = \"http://localhost:7890\"\n",
    "os.environ[\"https_proxy\"] = \"http://localhost:7890\""
   ],
   "metadata": {
    "collapsed": false,
    "ExecuteTime": {
     "end_time": "2024-01-27T04:24:10.598349700Z",
     "start_time": "2024-01-27T04:24:10.577555500Z"
    }
   },
   "id": "b914dabc4cabfbe5",
   "execution_count": 1
  },
  {
   "cell_type": "markdown",
   "source": [
    "3.2获取金融市场数据\n",
    "\n",
    "3.2.1下载数据到指定目录\n",
    "\n",
    "使用Qlib内置的数据源并下载到本地目录，用于后续研究使用："
   ],
   "metadata": {
    "collapsed": false
   },
   "id": "b8c7549c736dffa3"
  },
  {
   "cell_type": "code",
   "outputs": [
    {
     "name": "stderr",
     "output_type": "stream",
     "text": [
      "\u001B[32m2024-01-27 12:24:16.588\u001B[0m | \u001B[33m\u001B[1mWARNING \u001B[0m | \u001B[36mqlib.tests.data\u001B[0m:\u001B[36mdownload_data\u001B[0m:\u001B[36m79\u001B[0m - \u001B[33m\u001B[1mThe data for the example is collected from Yahoo Finance. Please be aware that the quality of the data might not be perfect. (You can refer to the original data source: https://finance.yahoo.com/lookup.)\u001B[0m\n",
      "\u001B[32m2024-01-27 12:24:16.591\u001B[0m | \u001B[1mINFO    \u001B[0m | \u001B[36mqlib.tests.data\u001B[0m:\u001B[36mdownload_data\u001B[0m:\u001B[36m82\u001B[0m - \u001B[1mqlib_data_cn_1d_latest.zip downloading......\u001B[0m\n",
      "196549632it [00:42, 4660576.63it/s]                               \n",
      "\u001B[32m2024-01-27 12:24:58.784\u001B[0m | \u001B[33m\u001B[1mWARNING \u001B[0m | \u001B[36mqlib.tests.data\u001B[0m:\u001B[36m_unzip\u001B[0m:\u001B[36m104\u001B[0m - \u001B[33m\u001B[1mwill delete the old qlib data directory(features, instruments, calendars, features_cache, dataset_cache): H:\\data\\qlib\\qlib_data\\cn_data\u001B[0m\n",
      "\u001B[32m2024-01-27 12:24:58.785\u001B[0m | \u001B[1mINFO    \u001B[0m | \u001B[36mqlib.tests.data\u001B[0m:\u001B[36m_unzip\u001B[0m:\u001B[36m108\u001B[0m - \u001B[1mH:\\data\\qlib\\qlib_data\\cn_data\\20240127122415_qlib_data_cn_1d_latest.zip unzipping......\u001B[0m\n",
      "100%|██████████| 31008/31008 [00:39<00:00, 787.51it/s] \n",
      "[27924:MainThread](2024-01-27 12:25:38,431) INFO - qlib.Initialization - [config.py:416] - default_conf: client.\n",
      "[27924:MainThread](2024-01-27 12:25:41,513) INFO - qlib.Initialization - [__init__.py:74] - qlib successfully initialized based on client settings.\n",
      "[27924:MainThread](2024-01-27 12:25:41,518) INFO - qlib.Initialization - [__init__.py:76] - data_path={'__DEFAULT_FREQ': WindowsPath('H:/data/qlib/qlib_data/cn_data')}\n"
     ]
    }
   ],
   "source": [
    "import qlib\n",
    "# from qlib.contrib.model.pytorch_alstm_ts import ALSTM\n",
    "from qlib.tests.data import GetData\n",
    "from qlib.constant import REG_CN\n",
    "\n",
    "data_uri = 'H:/data/qlib/qlib_data/cn_data'\n",
    "GetData().qlib_data(target_dir=data_uri, region=REG_CN)\n",
    "qlib.init(provider_uri=data_uri, region=REG_CN)"
   ],
   "metadata": {
    "collapsed": false,
    "ExecuteTime": {
     "end_time": "2024-01-27T04:25:41.616475600Z",
     "start_time": "2024-01-27T04:24:10.601576700Z"
    }
   },
   "id": "2caf013d15feafaf",
   "execution_count": 2
  },
  {
   "cell_type": "markdown",
   "source": [
    "3.2.3数据核心模块类\n",
    "\n",
    "Qlib中关于数据主要有以下三个模块：\n",
    "\n",
    "Data Loader: 从数据源加载数据，数据源可以是已经转换为qlib内置格式的数据，也可以是其他外部数据；\n",
    "\n",
    "Data Handler: 对数据进行预处理，比如常见的缺失值、标准化等；\n",
    "\n",
    "Dataset: 为模型的训练准备数据，类似Pytorch中的Dataset。\n",
    "\n",
    "1)QlibDataLoader"
   ],
   "metadata": {
    "collapsed": false
   },
   "id": "9dfa3888c8fbf301"
  },
  {
   "cell_type": "code",
   "outputs": [
    {
     "data": {
      "text/plain": "                            close        high\ndatetime   instrument                        \n2019-01-02 SH600519    124.290070  126.991760\n2019-01-03 SH600519    122.426697  124.846176\n2019-01-04 SH600519    124.916748  126.093285\n2019-01-07 SH600519    125.640930  126.639015\n2019-01-08 SH600519    125.495667  126.991760\n...                           ...         ...\n2019-12-25 SH600519    238.729614  240.687988\n2019-12-26 SH600519    239.024445  240.473206\n2019-12-27 SH600519    244.899506  246.794693\n2019-12-30 SH600519    249.700638  251.743210\n2019-12-31 SH600519    249.111008  250.163895\n\n[244 rows x 2 columns]",
      "text/html": "<div>\n<style scoped>\n    .dataframe tbody tr th:only-of-type {\n        vertical-align: middle;\n    }\n\n    .dataframe tbody tr th {\n        vertical-align: top;\n    }\n\n    .dataframe thead th {\n        text-align: right;\n    }\n</style>\n<table border=\"1\" class=\"dataframe\">\n  <thead>\n    <tr style=\"text-align: right;\">\n      <th></th>\n      <th></th>\n      <th>close</th>\n      <th>high</th>\n    </tr>\n    <tr>\n      <th>datetime</th>\n      <th>instrument</th>\n      <th></th>\n      <th></th>\n    </tr>\n  </thead>\n  <tbody>\n    <tr>\n      <th>2019-01-02</th>\n      <th>SH600519</th>\n      <td>124.290070</td>\n      <td>126.991760</td>\n    </tr>\n    <tr>\n      <th>2019-01-03</th>\n      <th>SH600519</th>\n      <td>122.426697</td>\n      <td>124.846176</td>\n    </tr>\n    <tr>\n      <th>2019-01-04</th>\n      <th>SH600519</th>\n      <td>124.916748</td>\n      <td>126.093285</td>\n    </tr>\n    <tr>\n      <th>2019-01-07</th>\n      <th>SH600519</th>\n      <td>125.640930</td>\n      <td>126.639015</td>\n    </tr>\n    <tr>\n      <th>2019-01-08</th>\n      <th>SH600519</th>\n      <td>125.495667</td>\n      <td>126.991760</td>\n    </tr>\n    <tr>\n      <th>...</th>\n      <th>...</th>\n      <td>...</td>\n      <td>...</td>\n    </tr>\n    <tr>\n      <th>2019-12-25</th>\n      <th>SH600519</th>\n      <td>238.729614</td>\n      <td>240.687988</td>\n    </tr>\n    <tr>\n      <th>2019-12-26</th>\n      <th>SH600519</th>\n      <td>239.024445</td>\n      <td>240.473206</td>\n    </tr>\n    <tr>\n      <th>2019-12-27</th>\n      <th>SH600519</th>\n      <td>244.899506</td>\n      <td>246.794693</td>\n    </tr>\n    <tr>\n      <th>2019-12-30</th>\n      <th>SH600519</th>\n      <td>249.700638</td>\n      <td>251.743210</td>\n    </tr>\n    <tr>\n      <th>2019-12-31</th>\n      <th>SH600519</th>\n      <td>249.111008</td>\n      <td>250.163895</td>\n    </tr>\n  </tbody>\n</table>\n<p>244 rows × 2 columns</p>\n</div>"
     },
     "execution_count": 3,
     "metadata": {},
     "output_type": "execute_result"
    }
   ],
   "source": [
    "from qlib.data.dataset.loader import QlibDataLoader\n",
    "\n",
    "# 加载原始特征，比如收盘价、最高价\n",
    "qdl = QlibDataLoader(config=(['$close', '$high'], ['close', 'high']))\n",
    "qdl.load(instruments=['SH600519'], start_time='20190101', end_time='20191231')\n",
    "# 可以通过freq参数设置周期，默认freq='day'"
   ],
   "metadata": {
    "collapsed": false,
    "ExecuteTime": {
     "end_time": "2024-01-27T04:26:53.496837400Z",
     "start_time": "2024-01-27T04:26:53.402771Z"
    }
   },
   "id": "c98d93e62c842612",
   "execution_count": 3
  },
  {
   "cell_type": "markdown",
   "source": [
    "除了直接加载原始特征，有时我们需要对不同的原始特征做一些运算生成新的特征，比如我们想计算收盘价的均线。这时我们可以使用qlib的算式表达式功能，直接在加载时进行计算，具体请看下面案例。\n",
    "\n"
   ],
   "metadata": {
    "collapsed": false
   },
   "id": "8796c8133ae80f85"
  },
  {
   "cell_type": "code",
   "outputs": [
    {
     "data": {
      "text/plain": "                            EMA10       EMA30\ndatetime   instrument                        \n2019-01-02 SH600519    119.930656  120.109848\n2019-01-03 SH600519    120.440567  120.280975\n2019-01-04 SH600519    121.334900  120.620201\n2019-01-07 SH600519    122.180038  120.984444\n2019-01-08 SH600519    122.821526  121.309120\n2019-01-09 SH600519    123.782562  121.776146\n2019-01-10 SH600519    124.656723  122.245842",
      "text/html": "<div>\n<style scoped>\n    .dataframe tbody tr th:only-of-type {\n        vertical-align: middle;\n    }\n\n    .dataframe tbody tr th {\n        vertical-align: top;\n    }\n\n    .dataframe thead th {\n        text-align: right;\n    }\n</style>\n<table border=\"1\" class=\"dataframe\">\n  <thead>\n    <tr style=\"text-align: right;\">\n      <th></th>\n      <th></th>\n      <th>EMA10</th>\n      <th>EMA30</th>\n    </tr>\n    <tr>\n      <th>datetime</th>\n      <th>instrument</th>\n      <th></th>\n      <th></th>\n    </tr>\n  </thead>\n  <tbody>\n    <tr>\n      <th>2019-01-02</th>\n      <th>SH600519</th>\n      <td>119.930656</td>\n      <td>120.109848</td>\n    </tr>\n    <tr>\n      <th>2019-01-03</th>\n      <th>SH600519</th>\n      <td>120.440567</td>\n      <td>120.280975</td>\n    </tr>\n    <tr>\n      <th>2019-01-04</th>\n      <th>SH600519</th>\n      <td>121.334900</td>\n      <td>120.620201</td>\n    </tr>\n    <tr>\n      <th>2019-01-07</th>\n      <th>SH600519</th>\n      <td>122.180038</td>\n      <td>120.984444</td>\n    </tr>\n    <tr>\n      <th>2019-01-08</th>\n      <th>SH600519</th>\n      <td>122.821526</td>\n      <td>121.309120</td>\n    </tr>\n    <tr>\n      <th>2019-01-09</th>\n      <th>SH600519</th>\n      <td>123.782562</td>\n      <td>121.776146</td>\n    </tr>\n    <tr>\n      <th>2019-01-10</th>\n      <th>SH600519</th>\n      <td>124.656723</td>\n      <td>122.245842</td>\n    </tr>\n  </tbody>\n</table>\n</div>"
     },
     "execution_count": 4,
     "metadata": {},
     "output_type": "execute_result"
    }
   ],
   "source": [
    "# 这次我们加载沪深300成分股的10日和30日收盘价指数加权均价\n",
    "# market = 'csi500' # 沪深300股票池代码，在instruments文件夹下有对应的sh000300.txt\n",
    "market = ['SH600519']\n",
    "close_ma = ['EMA($close, 10)', 'EMA($close, 30)']  # EMA($close, 10)表示计算close的10日指数加权均线\n",
    "ma_names = ['EMA10', 'EMA30']\n",
    "qdl_ma = QlibDataLoader(config=(close_ma, ma_names))\n",
    "qdl_ma.load(instruments=market, start_time='20190101', end_time='20190110')"
   ],
   "metadata": {
    "collapsed": false,
    "ExecuteTime": {
     "end_time": "2024-01-27T04:26:55.186942400Z",
     "start_time": "2024-01-27T04:26:55.151911800Z"
    }
   },
   "id": "bf4063b917daeaf3",
   "execution_count": 4
  },
  {
   "cell_type": "code",
   "outputs": [
    {
     "data": {
      "text/plain": "                           EMA10      EMA30\ndatetime   instrument                      \n2019-01-02 SH600006     2.485089   2.554589\n           SH600008     3.342541   3.420600\n           SH600017     1.466812   1.497474\n           SH600021     1.959099   1.924196\n           SH600022     2.603461   2.664191\n...                          ...        ...\n2019-01-10 SZ300383     5.047935   4.949678\n           SZ300413     2.911690   2.915875\n           SZ300418     1.794226   1.820802\n           SZ300450    11.260673  11.399063\n           SZ300459     5.113735   5.141619\n\n[3479 rows x 2 columns]",
      "text/html": "<div>\n<style scoped>\n    .dataframe tbody tr th:only-of-type {\n        vertical-align: middle;\n    }\n\n    .dataframe tbody tr th {\n        vertical-align: top;\n    }\n\n    .dataframe thead th {\n        text-align: right;\n    }\n</style>\n<table border=\"1\" class=\"dataframe\">\n  <thead>\n    <tr style=\"text-align: right;\">\n      <th></th>\n      <th></th>\n      <th>EMA10</th>\n      <th>EMA30</th>\n    </tr>\n    <tr>\n      <th>datetime</th>\n      <th>instrument</th>\n      <th></th>\n      <th></th>\n    </tr>\n  </thead>\n  <tbody>\n    <tr>\n      <th rowspan=\"5\" valign=\"top\">2019-01-02</th>\n      <th>SH600006</th>\n      <td>2.485089</td>\n      <td>2.554589</td>\n    </tr>\n    <tr>\n      <th>SH600008</th>\n      <td>3.342541</td>\n      <td>3.420600</td>\n    </tr>\n    <tr>\n      <th>SH600017</th>\n      <td>1.466812</td>\n      <td>1.497474</td>\n    </tr>\n    <tr>\n      <th>SH600021</th>\n      <td>1.959099</td>\n      <td>1.924196</td>\n    </tr>\n    <tr>\n      <th>SH600022</th>\n      <td>2.603461</td>\n      <td>2.664191</td>\n    </tr>\n    <tr>\n      <th>...</th>\n      <th>...</th>\n      <td>...</td>\n      <td>...</td>\n    </tr>\n    <tr>\n      <th rowspan=\"5\" valign=\"top\">2019-01-10</th>\n      <th>SZ300383</th>\n      <td>5.047935</td>\n      <td>4.949678</td>\n    </tr>\n    <tr>\n      <th>SZ300413</th>\n      <td>2.911690</td>\n      <td>2.915875</td>\n    </tr>\n    <tr>\n      <th>SZ300418</th>\n      <td>1.794226</td>\n      <td>1.820802</td>\n    </tr>\n    <tr>\n      <th>SZ300450</th>\n      <td>11.260673</td>\n      <td>11.399063</td>\n    </tr>\n    <tr>\n      <th>SZ300459</th>\n      <td>5.113735</td>\n      <td>5.141619</td>\n    </tr>\n  </tbody>\n</table>\n<p>3479 rows × 2 columns</p>\n</div>"
     },
     "execution_count": 5,
     "metadata": {},
     "output_type": "execute_result"
    }
   ],
   "source": [
    "# 这次我们加载沪深300成分股的10日和30日收盘价指数加权均价\n",
    "market = 'csi500'  # 沪深300股票池代码，在instruments文件夹下有对应的sh000300.txt\n",
    "# market = ['SH600519']\n",
    "close_ma = ['EMA($close, 10)', 'EMA($close, 30)']  # EMA($close, 10)表示计算close的10日指数加权均线\n",
    "ma_names = ['EMA10', 'EMA30']\n",
    "qdl_ma = QlibDataLoader(config=(close_ma, ma_names))\n",
    "qdl_ma.load(instruments=market, start_time='20190101', end_time='20190110')"
   ],
   "metadata": {
    "collapsed": false,
    "ExecuteTime": {
     "end_time": "2024-01-27T04:27:11.403565200Z",
     "start_time": "2024-01-27T04:26:55.866687900Z"
    }
   },
   "id": "3057db333992c719",
   "execution_count": 5
  },
  {
   "cell_type": "markdown",
   "source": [
    "qlib把类似“EMA”称为算子（operator），qlib中全部支持的算子可以在以下源码中找到：/qlib/data/ops.py中，主要有：\n",
    "\n",
    "ChangeInstrument, Rolling, Ref, Max, Min, Sum, Mean, Std, Var, Skew, Kurt, Med, Mad, Slope, Rsquare, Resi, Rank, Quantile, Count, EMA, WMA, Corr, Cov, Delta, Abs, Sign, Log, Power, Add, Sub, Mul, Div, Greater, Less, And, Or, Not, Gt, Ge, Lt, Le, Eq, Ne, Mask, IdxMax, IdxMin, If, Feature, PFeature，\n",
    "\n",
    "有时我们需要对计算的数据进行分组，最常用的是分为特征组“feature”和“label”组，此时我们可以传入dict格式的参数至config中，具体看下面实例：\n",
    "\n"
   ],
   "metadata": {
    "collapsed": false
   },
   "id": "ca214becabc7fc9"
  },
  {
   "cell_type": "code",
   "outputs": [
    {
     "data": {
      "text/plain": "                         feature                label\n                           EMA10      EMA30  next_ret\ndatetime   instrument                                \n2019-01-02 SH600006     2.485089   2.554589  0.011142\n           SH600008     3.342541   3.420600 -0.017493\n           SH600017     1.466812   1.497474  0.011111\n           SH600021     1.959099   1.924196 -0.012330\n           SH600022     2.603461   2.664191  0.000000\n...                          ...        ...       ...\n2019-01-10 SZ300383     5.047935   4.949678  0.002888\n           SZ300413     2.911690   2.915875 -0.005245\n           SZ300418     1.794226   1.820802  0.011364\n           SZ300450    11.260673  11.399063 -0.012022\n           SZ300459     5.113735   5.141619  0.005533\n\n[3479 rows x 3 columns]",
      "text/html": "<div>\n<style scoped>\n    .dataframe tbody tr th:only-of-type {\n        vertical-align: middle;\n    }\n\n    .dataframe tbody tr th {\n        vertical-align: top;\n    }\n\n    .dataframe thead tr th {\n        text-align: left;\n    }\n\n    .dataframe thead tr:last-of-type th {\n        text-align: right;\n    }\n</style>\n<table border=\"1\" class=\"dataframe\">\n  <thead>\n    <tr>\n      <th></th>\n      <th></th>\n      <th colspan=\"2\" halign=\"left\">feature</th>\n      <th>label</th>\n    </tr>\n    <tr>\n      <th></th>\n      <th></th>\n      <th>EMA10</th>\n      <th>EMA30</th>\n      <th>next_ret</th>\n    </tr>\n    <tr>\n      <th>datetime</th>\n      <th>instrument</th>\n      <th></th>\n      <th></th>\n      <th></th>\n    </tr>\n  </thead>\n  <tbody>\n    <tr>\n      <th rowspan=\"5\" valign=\"top\">2019-01-02</th>\n      <th>SH600006</th>\n      <td>2.485089</td>\n      <td>2.554589</td>\n      <td>0.011142</td>\n    </tr>\n    <tr>\n      <th>SH600008</th>\n      <td>3.342541</td>\n      <td>3.420600</td>\n      <td>-0.017493</td>\n    </tr>\n    <tr>\n      <th>SH600017</th>\n      <td>1.466812</td>\n      <td>1.497474</td>\n      <td>0.011111</td>\n    </tr>\n    <tr>\n      <th>SH600021</th>\n      <td>1.959099</td>\n      <td>1.924196</td>\n      <td>-0.012330</td>\n    </tr>\n    <tr>\n      <th>SH600022</th>\n      <td>2.603461</td>\n      <td>2.664191</td>\n      <td>0.000000</td>\n    </tr>\n    <tr>\n      <th>...</th>\n      <th>...</th>\n      <td>...</td>\n      <td>...</td>\n      <td>...</td>\n    </tr>\n    <tr>\n      <th rowspan=\"5\" valign=\"top\">2019-01-10</th>\n      <th>SZ300383</th>\n      <td>5.047935</td>\n      <td>4.949678</td>\n      <td>0.002888</td>\n    </tr>\n    <tr>\n      <th>SZ300413</th>\n      <td>2.911690</td>\n      <td>2.915875</td>\n      <td>-0.005245</td>\n    </tr>\n    <tr>\n      <th>SZ300418</th>\n      <td>1.794226</td>\n      <td>1.820802</td>\n      <td>0.011364</td>\n    </tr>\n    <tr>\n      <th>SZ300450</th>\n      <td>11.260673</td>\n      <td>11.399063</td>\n      <td>-0.012022</td>\n    </tr>\n    <tr>\n      <th>SZ300459</th>\n      <td>5.113735</td>\n      <td>5.141619</td>\n      <td>0.005533</td>\n    </tr>\n  </tbody>\n</table>\n<p>3479 rows × 3 columns</p>\n</div>"
     },
     "execution_count": 6,
     "metadata": {},
     "output_type": "execute_result"
    }
   ],
   "source": [
    "# 沪深300股票池代码，在instruments文件夹下有对应的sh000300.txt\n",
    "# market = 'sh000300' \n",
    "market = 'csi500'\n",
    "# EMA($close, 10)表示计算close的10日指数加权均线\n",
    "close_ma = ['EMA($close, 10)', 'EMA($close, 30)']\n",
    "ma_names = ['EMA10', 'EMA30']\n",
    "ret = [\"Ref($close, -1)/$close-1\"]\n",
    "# 下一日收益率, Ref($close, -1)表示下一日收盘价\n",
    "ret_name = ['next_ret']\n",
    "qdl_ma_gp = QlibDataLoader(config={'feature': (close_ma, ma_names), 'label': (ret, ret_name)})\n",
    "qdl_ma_gp.load(instruments=market, start_time='20190101', end_time='20190110')"
   ],
   "metadata": {
    "collapsed": false,
    "ExecuteTime": {
     "end_time": "2024-01-27T04:27:40.776582500Z",
     "start_time": "2024-01-27T04:27:11.512112700Z"
    }
   },
   "id": "410bdcb5ba632db6",
   "execution_count": 6
  },
  {
   "cell_type": "markdown",
   "source": [
    "2）Data Handler\n",
    "\n",
    "通过Data Loader加载特征后，模型训练前需要对特征数据进行一些预处理，比如缺失值、标准化等处理。这是Data Handler主要任务。我们先看一个案例：\n",
    "\n"
   ],
   "metadata": {
    "collapsed": false
   },
   "id": "bd21de32f4209cd8"
  },
  {
   "cell_type": "code",
   "outputs": [
    {
     "data": {
      "text/plain": "array([[<Axes: title={'center': 'Return'}>]], dtype=object)"
     },
     "execution_count": 7,
     "metadata": {},
     "output_type": "execute_result"
    },
    {
     "data": {
      "text/plain": "<Figure size 640x480 with 1 Axes>",
      "image/png": "[encoded data removed]"
     },
     "metadata": {},
     "output_type": "display_data"
    }
   ],
   "source": [
    "from qlib.data.dataset.handler import DataHandlerLP\n",
    "from qlib.data.dataset.processor import CSZScoreNorm, DropnaProcessor\n",
    "\n",
    "qdl = QlibDataLoader(config=(['$close/Ref($close, 1)-1'], ['Return']))\n",
    "# df = qdl.load(instruments='sh000300', start_time='20210101', end_time='20210430') \n",
    "df = qdl.load(instruments='csi500', start_time='20190101', end_time='20190110')\n",
    "# 是否有空值\n",
    "df.isna().sum()\n",
    "# 原始数据分布\n",
    "df.xs('2019-01-10').hist()"
   ],
   "metadata": {
    "collapsed": false,
    "ExecuteTime": {
     "end_time": "2024-01-27T04:27:56.256152600Z",
     "start_time": "2024-01-27T04:27:40.779786800Z"
    }
   },
   "id": "9a62fef309bdc220",
   "execution_count": 7
  },
  {
   "cell_type": "code",
   "outputs": [
    {
     "name": "stderr",
     "output_type": "stream",
     "text": [
      "[27924:MainThread](2024-01-27 12:28:10,672) INFO - qlib.timer - [log.py:127] - Time cost: 14.414s | Loading data Done\n",
      "[27924:MainThread](2024-01-27 12:28:10,674) INFO - qlib.timer - [log.py:127] - Time cost: 0.002s | DropnaProcessor Done\n",
      "G:\\ProgramData\\miniconda3\\envs\\qlibenv\\lib\\site-packages\\qlib\\data\\dataset\\processor.py:323: SettingWithCopyWarning: \n",
      "A value is trying to be set on a copy of a slice from a DataFrame.\n",
      "Try using .loc[row_indexer,col_indexer] = value instead\n",
      "\n",
      "See the caveats in the documentation: https://pandas.pydata.org/pandas-docs/stable/user_guide/indexing.html#returning-a-view-versus-a-copy\n",
      "  df[cols] = df[cols].groupby(\"datetime\", group_keys=False).apply(self.zscore_func)\n",
      "[27924:MainThread](2024-01-27 12:28:10,687) INFO - qlib.timer - [log.py:127] - Time cost: 0.012s | CSZScoreNorm Done\n",
      "[27924:MainThread](2024-01-27 12:28:10,688) INFO - qlib.timer - [log.py:127] - Time cost: 0.016s | fit & process data Done\n",
      "[27924:MainThread](2024-01-27 12:28:10,689) INFO - qlib.timer - [log.py:127] - Time cost: 14.432s | Init data Done\n"
     ]
    },
    {
     "data": {
      "text/plain": "array([[<Axes: title={'center': 'Return'}>]], dtype=object)"
     },
     "execution_count": 8,
     "metadata": {},
     "output_type": "execute_result"
    },
    {
     "data": {
      "text/plain": "<Figure size 640x480 with 1 Axes>",
      "image/png": "[encoded data removed]"
     },
     "metadata": {},
     "output_type": "display_data"
    }
   ],
   "source": [
    "# 实例化DataHandler\n",
    "dh = DataHandlerLP(\n",
    "    # instruments='sh000300', start_time='20210101', end_time='20210120',\n",
    "    instruments='csi500', start_time='20190101', end_time='20190110',\n",
    "    learn_processors=[DropnaProcessor(), CSZScoreNorm()],\n",
    "    data_loader=qdl)\n",
    "df_hdl = dh.fetch(data_key=DataHandlerLP.DK_L)  # 获取处理后的数据，处理过程为先去空值，再截面标准化。\n",
    "# 查看是否还存在空值\n",
    "df_hdl.isna().sum()\n",
    "# CSZScoreNorm截面标准化处理后的数据分布\n",
    "df_hdl.xs('2019-01-10').hist()"
   ],
   "metadata": {
    "collapsed": false,
    "ExecuteTime": {
     "end_time": "2024-01-27T04:28:10.862097800Z",
     "start_time": "2024-01-27T04:27:56.256152600Z"
    }
   },
   "id": "c1c63bf5316ada3d",
   "execution_count": 8
  },
  {
   "cell_type": "markdown",
   "source": [
    "从以上的例子可以看出，实例化Data Handler需要以下几个参数：\n",
    "\n",
    "基本信息，如instruments，start_time，end_time\n",
    "\n",
    "infer_processors，数据处理器，列表格式。由Dataloader加载的数据会依次经过该列表中的processor进行处理。（后面会详细介绍）\n",
    "\n",
    "data_loader，数据加载器实例。\n",
    "\n",
    "Data Handler实例化之后，通过fetch方法获取处理后的数据，这里的参数DataHandlerLP.DK_L会在Learn Processor VS Infer Processor详细介绍。\n",
    "\n",
    "3）Dataset\n",
    "\n",
    "Dataset主要是为模型训练注入数据，其中主要的参数有：\n",
    "\n",
    "handler：实例化的Data Handler\n",
    "\n",
    "segment：训练、验证、测试数据集的划分\n",
    "\n",
    "一个完整的代码示例如下："
   ],
   "metadata": {
    "collapsed": false
   },
   "id": "424295c6ff2280df"
  },
  {
   "cell_type": "code",
   "outputs": [
    {
     "name": "stderr",
     "output_type": "stream",
     "text": [
      "[27924:MainThread](2024-01-27 12:28:40,016) INFO - qlib.timer - [log.py:127] - Time cost: 29.150s | Loading data Done\n",
      "[27924:MainThread](2024-01-27 12:28:40,027) INFO - qlib.timer - [log.py:127] - Time cost: 0.010s | DropnaProcessor Done\n",
      "[27924:MainThread](2024-01-27 12:28:40,140) INFO - qlib.timer - [log.py:127] - Time cost: 0.112s | ZScoreNorm Done\n",
      "[27924:MainThread](2024-01-27 12:28:40,725) INFO - qlib.timer - [log.py:127] - Time cost: 0.582s | CSZScoreNorm Done\n",
      "[27924:MainThread](2024-01-27 12:28:40,726) INFO - qlib.timer - [log.py:127] - Time cost: 0.709s | fit & process data Done\n",
      "[27924:MainThread](2024-01-27 12:28:40,727) INFO - qlib.timer - [log.py:127] - Time cost: 29.861s | Init data Done\n"
     ]
    },
    {
     "data": {
      "text/plain": "Empty DataFrame\nColumns: [EMA10, EMA30, next_ret]\nIndex: []",
      "text/html": "<div>\n<style scoped>\n    .dataframe tbody tr th:only-of-type {\n        vertical-align: middle;\n    }\n\n    .dataframe tbody tr th {\n        vertical-align: top;\n    }\n\n    .dataframe thead th {\n        text-align: right;\n    }\n</style>\n<table border=\"1\" class=\"dataframe\">\n  <thead>\n    <tr style=\"text-align: right;\">\n      <th></th>\n      <th></th>\n      <th>EMA10</th>\n      <th>EMA30</th>\n      <th>next_ret</th>\n    </tr>\n    <tr>\n      <th>datetime</th>\n      <th>instrument</th>\n      <th></th>\n      <th></th>\n      <th></th>\n    </tr>\n  </thead>\n  <tbody>\n  </tbody>\n</table>\n</div>"
     },
     "execution_count": 9,
     "metadata": {},
     "output_type": "execute_result"
    }
   ],
   "source": [
    "from qlib.data.dataset.processor import ZScoreNorm\n",
    "from qlib.data.dataset import DatasetH\n",
    "\n",
    "# 沪深300股票池代码，在instruments文件夹下必须有对应的文件\n",
    "# Data Loader\n",
    "# market = 'sh000300' #sh000300.txt\n",
    "market = 'csi500'\n",
    "\n",
    "# EMA($close, 10)表示计算close的10日指数加权均线\n",
    "close_ma = ['EMA($close, 10)', 'EMA($close, 30)']\n",
    "# 下一日收益率, Ref($close, -1)表示下一日收盘价\n",
    "ma_names = ['EMA10', 'EMA30']\n",
    "ret = [\"Ref($close, -1)/$close-1\"]\n",
    "ret_name = ['next_ret']\n",
    "qdl_ma_gp = QlibDataLoader(config={'feature': (close_ma, ma_names), 'label': (ret, ret_name)})\n",
    "# 实例化Data Handler\n",
    "shared_processors = [DropnaProcessor()]\n",
    "learn_processors = [CSZScoreNorm()]  # processor that applies cross sectional z-score normalization\n",
    "infer_processors = [\n",
    "    ZScoreNorm(fit_start_time='20190101', fit_end_time='20211231')]  # processor that applies z-score normalization\n",
    "dh_pr_test = DataHandlerLP(\n",
    "    # instruments='sh000300', \n",
    "    instruments='csi500',\n",
    "    start_time='20190101',\n",
    "    end_time='20211231',\n",
    "    process_type=DataHandlerLP.PTYPE_I,\n",
    "    learn_processors=learn_processors,\n",
    "    shared_processors=shared_processors,\n",
    "    infer_processors=infer_processors,\n",
    "    data_loader=qdl_ma_gp)\n",
    "ds = DatasetH(dh_pr_test, segments={\"train\": ('20190101', '20201231'), \"test\": ('20210101', '20211231')})\n",
    "# 准备训练数据\n",
    "ds.prepare('train')\n",
    "# 准备测试数据\n",
    "ds.prepare('test')"
   ],
   "metadata": {
    "collapsed": false,
    "ExecuteTime": {
     "end_time": "2024-01-27T04:28:40.785692Z",
     "start_time": "2024-01-27T04:28:10.863162100Z"
    }
   },
   "id": "ea1a32b0819bf939",
   "execution_count": 9
  }
 ],
 "metadata": {
  "kernelspec": {
   "name": "qlibenv",
   "language": "python",
   "display_name": "qlibenv"
  },
  "language_info": {
   "codemirror_mode": {
    "name": "ipython",
    "version": 2
   },
   "file_extension": ".py",
   "mimetype": "text/x-python",
   "name": "python",
   "nbconvert_exporter": "python",
   "pygments_lexer": "ipython2",
   "version": "2.7.6"
  }
 },
 "nbformat": 4,
 "nbformat_minor": 5
}
