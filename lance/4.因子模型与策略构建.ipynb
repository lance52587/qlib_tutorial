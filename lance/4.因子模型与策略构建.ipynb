{
 "cells": [
  {
   "cell_type": "code",
   "outputs": [],
   "source": [
    "import os\n",
    "\n",
    "os.environ[\"http_proxy\"] = \"http://localhost:7890\"\n",
    "os.environ[\"https_proxy\"] = \"http://localhost:7890\""
   ],
   "metadata": {
    "collapsed": false,
    "ExecuteTime": {
     "end_time": "2024-01-27T04:38:06.003361200Z",
     "start_time": "2024-01-27T04:38:05.980205900Z"
    }
   },
   "id": "b914dabc4cabfbe5",
   "execution_count": 1
  },
  {
   "cell_type": "markdown",
   "source": [
    "4.1数据\n",
    "1）初始化\n",
    "\n",
    "在Python中运行Qlib程序前，需要首先初始化运行环境，命令为qlib.init，代码如下："
   ],
   "metadata": {
    "collapsed": false
   },
   "id": "76936b9ddc2f94f3"
  },
  {
   "cell_type": "code",
   "outputs": [
    {
     "name": "stderr",
     "output_type": "stream",
     "text": [
      "[19576:MainThread](2024-01-27 12:42:42,050) INFO - qlib.Initialization - [config.py:416] - default_conf: client.\n",
      "[19576:MainThread](2024-01-27 12:42:42,053) INFO - qlib.Initialization - [__init__.py:74] - qlib successfully initialized based on client settings.\n",
      "[19576:MainThread](2024-01-27 12:42:42,054) INFO - qlib.Initialization - [__init__.py:76] - data_path={'__DEFAULT_FREQ': WindowsPath('H:/data/qlib/qlib_data/cn_data')}\n"
     ]
    }
   ],
   "source": [
    "import qlib\n",
    "from qlib.constant import REG_CN\n",
    "\n",
    "# from qlib.contrib.model.pytorch_alstm_ts import ALSTM\n",
    "\n",
    "data_uri = 'H:/data/qlib/qlib_data/cn_data'\n",
    "# GetData().qlib_data(target_dir=data_uri, region=REG_CN)\n",
    "qlib.init(provider_uri=data_uri, region=REG_CN)"
   ],
   "metadata": {
    "collapsed": false,
    "ExecuteTime": {
     "end_time": "2024-01-27T04:42:42.076738500Z",
     "start_time": "2024-01-27T04:42:42.048265300Z"
    }
   },
   "id": "2caf013d15feafaf",
   "execution_count": 7
  },
  {
   "cell_type": "markdown",
   "source": [
    "2）获取交易日期和全部股票代码"
   ],
   "metadata": {
    "collapsed": false
   },
   "id": "cdbdc52b3d417076"
  },
  {
   "cell_type": "code",
   "execution_count": 9,
   "outputs": [
    {
     "name": "stdout",
     "output_type": "stream",
     "text": [
      "[Timestamp('2020-01-02 00:00:00') Timestamp('2020-01-03 00:00:00')\n",
      " Timestamp('2020-01-06 00:00:00') Timestamp('2020-01-07 00:00:00')\n",
      " Timestamp('2020-01-08 00:00:00')]\n",
      "['SZ300891', 'SZ300892', 'SZ300893', 'SZ300895', 'SH000905']\n"
     ]
    }
   ],
   "source": [
    "# 获取日历\n",
    "from qlib.data import D\n",
    "\n",
    "tradedate = D.calendar(start_time='2020-01-01', end_time='2020-11-30', freq='day')\n",
    "print(tradedate[:5])\n",
    "# 获取所有证券代码\n",
    "instruments = D.instruments(market='all')\n",
    "stock_list = D.list_instruments(instruments=instruments,\n",
    "                                start_time='2020-07-01',\n",
    "                                end_time='2020-11-30',\n",
    "                                as_list=True)\n",
    "print(stock_list[-5:])"
   ],
   "metadata": {
    "collapsed": false,
    "ExecuteTime": {
     "end_time": "2024-01-27T04:44:59.131216100Z",
     "start_time": "2024-01-27T04:44:59.012821100Z"
    }
   },
   "id": "2d370f9dbe127e1c"
  },
  {
   "cell_type": "markdown",
   "source": [
    "3）获取字段数据\n",
    "\n",
    "调用qlib.data.features模块可以获取指定股票指定日期指定字段数据，例如下图展示获取惠云钛业（SZ300891）在2020-01-01~2020-11-30日频后复权收盘价和成交量。"
   ],
   "metadata": {
    "collapsed": false
   },
   "id": "9dfa3888c8fbf301"
  },
  {
   "cell_type": "code",
   "execution_count": 10,
   "outputs": [
    {
     "name": "stdout",
     "output_type": "stream",
     "text": [
      "                         $close       $volume\n",
      "instrument datetime                          \n",
      "SZ300891   2020-09-17  1.000000  1.617669e+09\n",
      "           2020-09-18  0.881890  1.203641e+09\n",
      "           2020-09-21  0.871391  7.776675e+08\n",
      "           2020-09-22  0.843832  6.129917e+08\n",
      "           2020-09-23  0.851269  6.875450e+08\n"
     ]
    }
   ],
   "source": [
    "#3. 获取指定股票指定日期指定字段数据\n",
    "features_df = D.features(instruments=['SZ300891'],\n",
    "                         fields=['$close', ' $volume'],\n",
    "                         start_time='2020-01-01',\n",
    "                         end_time='2020-11-30',\n",
    "                         freq='day')\n",
    "print(features_df.head())"
   ],
   "metadata": {
    "collapsed": false,
    "ExecuteTime": {
     "end_time": "2024-01-27T04:45:27.865292100Z",
     "start_time": "2024-01-27T04:45:27.811200400Z"
    }
   },
   "id": "b847a093d727d6d"
  },
  {
   "cell_type": "markdown",
   "source": [],
   "metadata": {
    "collapsed": false
   },
   "id": "907880ab1571b01c"
  },
  {
   "cell_type": "markdown",
   "source": [
    "4.2股票池\n",
    "\n",
    "使用qlib.data.filter.NameDFilter命令进行股票名称静态筛选，参数name_rule_re为纳入股票代码的正则表达式，如HK[0-9!]表示以HK开头，后续为数字或感叹号的股票代码，感叹号代表目前已退市股票。\n",
    "\n",
    "其次，使用qlib.data.filter.ExpressionDFilter命令进行股票因子表达式的动态筛选，参数rule_expression为入选的因子表达式，如$close>=1代表收盘价应大于等于1元。\n",
    "\n",
    "随后，通过qlib.data.instruments命令的参数filter_pipe，将两个筛选条件组装到一起，代码如下：\n",
    "\n",
    "- 不加if __name__=='__main__' ，会报错“RuntimeError: An attempt has been made to start a new process before the current process has finished its bootstrapping phase.”\n"
   ],
   "metadata": {
    "collapsed": false
   },
   "id": "93ec5e0123c3cdc0"
  },
  {
   "cell_type": "code",
   "execution_count": 12,
   "outputs": [
    {
     "name": "stdout",
     "output_type": "stream",
     "text": [
      "['SZ300782', 'SZ300803', 'SZ300831', 'SZ300841', 'SZ300846']\n"
     ]
    }
   ],
   "source": [
    "if __name__ == '__main__':\n",
    "    from qlib.data.filter import NameDFilter, ExpressionDFilter\n",
    "\n",
    "    # 静态Filter:深交所A股\n",
    "    nameDFilter = NameDFilter(name_rule_re='SZ[0-9!]')\n",
    "    # 动态Filter:后复权价格大于等于1元\n",
    "    expressionDFilter = ExpressionDFilter(rule_expression='$close>=5')\n",
    "    #按以上两个过滤条件获取新的股票代码集\n",
    "    instruments = D.instruments(market='all', filter_pipe=[nameDFilter, expressionDFilter])\n",
    "    stock_list = D.list_instruments(instruments=instruments,\n",
    "                                    start_time='2020-07-01',\n",
    "                                    end_time='2020-11-30',\n",
    "                                    as_list=True)\n",
    "    #展示条件过滤后的5个股票代码\n",
    "    print(stock_list[-5:])"
   ],
   "metadata": {
    "collapsed": false,
    "ExecuteTime": {
     "end_time": "2024-01-27T04:47:26.130062100Z",
     "start_time": "2024-01-27T04:47:01.473008200Z"
    }
   },
   "id": "661b39d5c5eaaf3c"
  },
  {
   "cell_type": "markdown",
   "source": [
    "4.3因子\n",
    "\n",
    "Qlib提供Alpha158和Alpha360两类量价因子库，用户也可根据需要自定义因子库。源码位于qlib/contrib/data/handler.py，主要包括两个四个类：\n",
    "\n",
    "Alpha360(DataHandlerLP)、Alpha360vwap(Alpha360)\n",
    "Alpha158(DataHandlerLP)、Alpha158vwap(Alpha360)\n",
    "配置文件对应的代码说明如下：\n",
    "\n",
    "```python\n",
    "def parse_config_to_fields(config):\n",
    " \"\"\"create factors from config\n",
    "        config = {\n",
    "            'kbar': {}, # whether to use some hard-code kbar features\n",
    "            'price': { # whether to use raw price features\n",
    "                'windows': [0, 1, 2, 3, 4], # use price at n days ago\n",
    "                'feature': ['OPEN', 'HIGH', 'LOW'] # which price field to use\n",
    "            },\n",
    "            'volume': { # whether to use raw volume features\n",
    "                'windows': [0, 1, 2, 3, 4], # use volume at n days ago\n",
    "            },\n",
    "            'rolling': { # whether to use rolling operator based features\n",
    "                'windows': [5, 10, 20, 30, 60], # rolling windows size\n",
    "                'include': ['ROC', 'MA', 'STD'], # rolling operator to use\n",
    "                #if include is None we will use default operators\n",
    "                'exclude': ['RANK'], # rolling operator not to use\n",
    "            }\n",
    "        }\n",
    "```\n",
    "其中参数data_handler_config相当于配置文件，字典类型，用来定义完整数据起止日期（start_time和end_time），拟合数据起止日期（fit_start_time和fit_end_time），股票池（instruments）等。\n",
    "\n",
    "拟合数据起止日期区间应为完整数据起止日期数据的子集。\n",
    "\n",
    "拟合数据日期（训练和验证集）和余下日期（测试集）在数据预处理的方式上有所不同，将在下章展开讨论。\n",
    "\n",
    "生成Alpha158因子调用qlib.contrib.data.handler模块下的Alpha158类，具体命令为：\n",
    "\n",
    "```python\n",
    "from qlib.contrib.data.handler import Alpha158\n",
    "h = Alpha158(**data_handler_config)\n",
    "```\n",
    "\n",
    "执行上述指令后，程序将计算从start_time至end_time的**当期因子值和下期收益**，分别作为后续**AI模型训练的特征和标签**。\n",
    "\n",
    "代码中使用了两个处理器，infer_processors用于模型预测，learn_processors用于模型训练。\n",
    "\n",
    "```python\n",
    "    infer_processors = check_transform_proc(infer_processors, fit_start_time, fit_end_time)\n",
    "    learn_processors = check_transform_proc(learn_processors, fit_start_time, fit_end_time)\n",
    "```"
   ],
   "metadata": {
    "collapsed": false
   },
   "id": "7ba19b6b4f276e25"
  },
  {
   "cell_type": "code",
   "execution_count": 16,
   "outputs": [
    {
     "name": "stderr",
     "output_type": "stream",
     "text": [
      "[19576:MainThread](2024-01-27 13:00:12,306) INFO - qlib.timer - [log.py:127] - Time cost: 125.072s | Loading data Done\n",
      "[19576:MainThread](2024-01-27 13:00:12,893) INFO - qlib.timer - [log.py:127] - Time cost: 0.201s | DropnaLabel Done\n",
      "G:\\ProgramData\\miniconda3\\envs\\qlibenv\\lib\\site-packages\\qlib\\data\\dataset\\processor.py:323: SettingWithCopyWarning: \n",
      "A value is trying to be set on a copy of a slice from a DataFrame.\n",
      "Try using .loc[row_indexer,col_indexer] = value instead\n",
      "\n",
      "See the caveats in the documentation: https://pandas.pydata.org/pandas-docs/stable/user_guide/indexing.html#returning-a-view-versus-a-copy\n",
      "  df[cols] = df[cols].groupby(\"datetime\", group_keys=False).apply(self.zscore_func)\n",
      "[19576:MainThread](2024-01-27 13:00:13,451) INFO - qlib.timer - [log.py:127] - Time cost: 0.557s | CSZScoreNorm Done\n",
      "[19576:MainThread](2024-01-27 13:00:13,478) INFO - qlib.timer - [log.py:127] - Time cost: 1.171s | fit & process data Done\n",
      "[19576:MainThread](2024-01-27 13:00:13,479) INFO - qlib.timer - [log.py:127] - Time cost: 126.246s | Init data Done\n"
     ]
    },
    {
     "name": "stdout",
     "output_type": "stream",
     "text": [
      "['KMID', 'KLEN', 'KMID2', 'KUP', 'KUP2', 'KLOW', 'KLOW2', 'KSFT', 'KSFT2', 'OPEN0', 'HIGH0', 'LOW0', 'VWAP0', 'ROC5', 'ROC10', 'ROC20', 'ROC30', 'ROC60', 'MA5', 'MA10', 'MA20', 'MA30', 'MA60', 'STD5', 'STD10', 'STD20', 'STD30', 'STD60', 'BETA5', 'BETA10', 'BETA20', 'BETA30', 'BETA60', 'RSQR5', 'RSQR10', 'RSQR20', 'RSQR30', 'RSQR60', 'RESI5', 'RESI10', 'RESI20', 'RESI30', 'RESI60', 'MAX5', 'MAX10', 'MAX20', 'MAX30', 'MAX60', 'MIN5', 'MIN10', 'MIN20', 'MIN30', 'MIN60', 'QTLU5', 'QTLU10', 'QTLU20', 'QTLU30', 'QTLU60', 'QTLD5', 'QTLD10', 'QTLD20', 'QTLD30', 'QTLD60', 'RANK5', 'RANK10', 'RANK20', 'RANK30', 'RANK60', 'RSV5', 'RSV10', 'RSV20', 'RSV30', 'RSV60', 'IMAX5', 'IMAX10', 'IMAX20', 'IMAX30', 'IMAX60', 'IMIN5', 'IMIN10', 'IMIN20', 'IMIN30', 'IMIN60', 'IMXD5', 'IMXD10', 'IMXD20', 'IMXD30', 'IMXD60', 'CORR5', 'CORR10', 'CORR20', 'CORR30', 'CORR60', 'CORD5', 'CORD10', 'CORD20', 'CORD30', 'CORD60', 'CNTP5', 'CNTP10', 'CNTP20', 'CNTP30', 'CNTP60', 'CNTN5', 'CNTN10', 'CNTN20', 'CNTN30', 'CNTN60', 'CNTD5', 'CNTD10', 'CNTD20', 'CNTD30', 'CNTD60', 'SUMP5', 'SUMP10', 'SUMP20', 'SUMP30', 'SUMP60', 'SUMN5', 'SUMN10', 'SUMN20', 'SUMN30', 'SUMN60', 'SUMD5', 'SUMD10', 'SUMD20', 'SUMD30', 'SUMD60', 'VMA5', 'VMA10', 'VMA20', 'VMA30', 'VMA60', 'VSTD5', 'VSTD10', 'VSTD20', 'VSTD30', 'VSTD60', 'WVMA5', 'WVMA10', 'WVMA20', 'WVMA30', 'WVMA60', 'VSUMP5', 'VSUMP10', 'VSUMP20', 'VSUMP30', 'VSUMP60', 'VSUMN5', 'VSUMN10', 'VSUMN20', 'VSUMN30', 'VSUMN60', 'VSUMD5', 'VSUMD10', 'VSUMD20', 'VSUMD30', 'VSUMD60', 'LABEL0']\n"
     ]
    }
   ],
   "source": [
    "from qlib.contrib.data.handler import Alpha158\n",
    "\n",
    "instruments = D.instruments(market='all')\n",
    "# stock_list = D.list_instruments(instruments=instruments,\n",
    "#                                 start_time='2020-01-01',\n",
    "#                                 end_time='2020-11-30',\n",
    "#                                 as_list=True)\n",
    "# 设置日期、股票池等参数\n",
    "data_handler_config = {\n",
    "    \"start_time\": \"2020-01-01\",\n",
    "    \"end_time\": \"2020-11-30\",\n",
    "    \"fit_start_time\": \"2020-01-01\",\n",
    "    \"fit_end_time\": \"2020-06-30\",\n",
    "    \"instruments\": instruments\n",
    "}\n",
    "h = Alpha158(**data_handler_config)\n",
    "# 获取列名(因子名称)\n",
    "print(h.get_cols())"
   ],
   "metadata": {
    "collapsed": false,
    "ExecuteTime": {
     "end_time": "2024-01-27T05:00:13.560639900Z",
     "start_time": "2024-01-27T04:58:07.233426400Z"
    }
   },
   "id": "4741552b32bad684"
  },
  {
   "cell_type": "markdown",
   "source": [
    "其中因子对应的算子计算公式在handler.py中可以看到：\n",
    "\n",
    "\"G:\\ProgramData\\miniconda3\\envs\\qlibenv\\Lib\\site-packages\\qlib\\contrib\\data\\handler.py\""
   ],
   "metadata": {
    "collapsed": false
   },
   "id": "f915bd44f14aa5fc"
  },
  {
   "cell_type": "code",
   "execution_count": 17,
   "outputs": [
    {
     "name": "stdout",
     "output_type": "stream",
     "text": [
      "                         LABEL0\n",
      "datetime   instrument          \n",
      "2020-01-02 SH000300   -0.003778\n",
      "           SH000903   -0.006925\n",
      "           SH000905    0.010076\n",
      "           SH600000   -0.011111\n",
      "           SH600004   -0.017261\n",
      "...                         ...\n",
      "2020-09-25 SZ300890         NaN\n",
      "           SZ300891         NaN\n",
      "           SZ300892         NaN\n",
      "           SZ300893         NaN\n",
      "           SZ300895         NaN\n",
      "\n",
      "[676964 rows x 1 columns]\n"
     ]
    }
   ],
   "source": [
    "# 通过下面代码获取标签：\n",
    "#获取T日每只股票的标签数据（收益，及涨幅）\n",
    "Alpha158_df_label = h.fetch(col_set=\"label\")\n",
    "print(Alpha158_df_label)\n",
    "# 默认参数下，股票t日的标签对应t+2日收盘价相对于t+1日收盘价的涨跌幅，相当于t日收盘后发信号，t+1日收盘时刻开仓，t+2日收盘时刻平仓。\n",
    "# 如下，2020年1月2日沪深300的标签值为-0.003778，对应2020年1月6日该股票涨跌幅为-0.3778%（2020年1月4~5日非交易日）。"
   ],
   "metadata": {
    "collapsed": false,
    "ExecuteTime": {
     "end_time": "2024-01-27T05:00:26.782426800Z",
     "start_time": "2024-01-27T05:00:26.474727300Z"
    }
   },
   "id": "28d3b4611521755c"
  },
  {
   "cell_type": "code",
   "execution_count": 18,
   "outputs": [
    {
     "name": "stdout",
     "output_type": "stream",
     "text": [
      "                           KMID      KLEN     KMID2       KUP      KUP2  \\\n",
      "datetime   instrument                                                     \n",
      "2020-01-02 SH000300    0.007495  0.012450  0.602024  0.004955  0.397976   \n",
      "           SH000903    0.006225  0.011553  0.538800  0.005328  0.461200   \n",
      "           SH000905    0.011207  0.016346  0.685605  0.001653  0.101117   \n",
      "           SH600000    0.000000  0.015237  0.000000  0.013633  0.894736   \n",
      "           SH600004   -0.002278  0.012529 -0.181813  0.003417  0.272729   \n",
      "...                         ...       ...       ...       ...       ...   \n",
      "2020-09-25 SZ300890   -0.058000  0.085636 -0.677282  0.027273  0.318471   \n",
      "           SZ300891   -0.044214  0.074236 -0.595587  0.028930  0.389707   \n",
      "           SZ300892   -0.110807  0.148837 -0.744485  0.038030  0.255515   \n",
      "           SZ300893    0.032195  0.245854  0.130953  0.153659  0.625000   \n",
      "           SZ300895   -0.104925  0.152836 -0.686523  0.040896  0.267578   \n",
      "\n",
      "                           KLOW     KLOW2      KSFT     KSFT2     OPEN0  ...  \\\n",
      "datetime   instrument                                                    ...   \n",
      "2020-01-02 SH000300    0.000000  0.000000  0.002540  0.204048  0.992561  ...   \n",
      "           SH000903    0.000000  0.000000  0.000897  0.077601  0.993814  ...   \n",
      "           SH000905    0.003486  0.213278  0.013040  0.797766  0.988918  ...   \n",
      "           SH600000    0.001604  0.105264 -0.012029 -0.789472  1.000000  ...   \n",
      "           SH600004    0.006834  0.545458  0.001139  0.090916  1.002283  ...   \n",
      "...                         ...       ...       ...       ...       ...  ...   \n",
      "2020-09-25 SZ300890    0.000364  0.004247 -0.084909 -0.991506  1.061571  ...   \n",
      "           SZ300891    0.001092  0.014707 -0.072052 -0.970587  1.046259  ...   \n",
      "           SZ300892    0.000000  0.000000 -0.148837 -1.000000  1.124615  ...   \n",
      "           SZ300893    0.060000  0.244048 -0.061463 -0.250000  0.968809  ...   \n",
      "           SZ300895    0.007015  0.045898 -0.138806 -0.908203  1.117225  ...   \n",
      "\n",
      "                         VSUMN5   VSUMN10   VSUMN20   VSUMN30   VSUMN60  \\\n",
      "datetime   instrument                                                     \n",
      "2020-01-02 SH000300    0.214344  0.429708  0.388513  0.408878  0.439867   \n",
      "           SH000903    0.233135  0.410738  0.410221  0.416297  0.451719   \n",
      "           SH000905    0.237803  0.447455  0.357776  0.407642  0.436652   \n",
      "           SH600000    0.162038  0.422264  0.444087  0.480478  0.494527   \n",
      "           SH600004    0.000000  0.365170  0.463112  0.498544  0.491698   \n",
      "...                         ...       ...       ...       ...       ...   \n",
      "2020-09-25 SZ300890    1.000000  1.000000  1.000000  1.000000  1.000000   \n",
      "           SZ300891    0.894568  0.926990  0.926990  0.926990  0.926990   \n",
      "           SZ300892    1.000000  1.000000  1.000000  1.000000  1.000000   \n",
      "           SZ300893    1.000000  1.000000  1.000000  1.000000  1.000000   \n",
      "           SZ300895    1.000000  1.000000  1.000000  1.000000  1.000000   \n",
      "\n",
      "                         VSUMD5   VSUMD10   VSUMD20   VSUMD30   VSUMD60  \n",
      "datetime   instrument                                                    \n",
      "2020-01-02 SH000300    0.571312  0.140584  0.222973  0.182244  0.120267  \n",
      "           SH000903    0.533731  0.178524  0.179558  0.167407  0.096561  \n",
      "           SH000905    0.524393  0.105090  0.284448  0.184716  0.126696  \n",
      "           SH600000    0.675923  0.155473  0.111826  0.039044  0.010946  \n",
      "           SH600004    1.000000  0.269660  0.073775  0.002912  0.016604  \n",
      "...                         ...       ...       ...       ...       ...  \n",
      "2020-09-25 SZ300890   -1.000000 -1.000000 -1.000000 -1.000000 -1.000000  \n",
      "           SZ300891   -0.789137 -0.853981 -0.853981 -0.853981 -0.853981  \n",
      "           SZ300892   -1.000000 -1.000000 -1.000000 -1.000000 -1.000000  \n",
      "           SZ300893   -1.000000 -1.000000 -1.000000 -1.000000 -1.000000  \n",
      "           SZ300895   -1.000000 -1.000000 -1.000000 -1.000000 -1.000000  \n",
      "\n",
      "[676964 rows x 158 columns]\n"
     ]
    }
   ],
   "source": [
    "# 通过下面代码可获取T日的特征（因子）值。\n",
    "# 获取T日每只股票的特征(因子值)值\n",
    "Alpha158_df_feature = h.fetch(col_set=\"feature\")\n",
    "print(Alpha158_df_feature)\n",
    "# 默认参数下，股票t日的特征对应t日收盘后计算出的因子值。"
   ],
   "metadata": {
    "collapsed": false,
    "ExecuteTime": {
     "end_time": "2024-01-27T05:07:25.606947700Z",
     "start_time": "2024-01-27T05:07:25.559368600Z"
    }
   },
   "id": "9b5314517ff0aa1e"
  }
 ],
 "metadata": {
  "kernelspec": {
   "name": "qlibenv",
   "language": "python",
   "display_name": "qlibenv"
  },
  "language_info": {
   "codemirror_mode": {
    "name": "ipython",
    "version": 2
   },
   "file_extension": ".py",
   "mimetype": "text/x-python",
   "name": "python",
   "nbconvert_exporter": "python",
   "pygments_lexer": "ipython2",
   "version": "2.7.6"
  }
 },
 "nbformat": 4,
 "nbformat_minor": 5
}
