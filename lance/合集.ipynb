{
 "cells": [
  {
   "cell_type": "code",
   "outputs": [],
   "source": [
    "import os\n",
    "\n",
    "os.environ[\"http_proxy\"] = \"http://localhost:7890\"\n",
    "os.environ[\"https_proxy\"] = \"http://localhost:7890\""
   ],
   "metadata": {
    "collapsed": false,
    "ExecuteTime": {
     "end_time": "2024-03-05T15:05:32.943276Z",
     "start_time": "2024-03-05T15:05:32.923275Z"
    }
   },
   "id": "293cafdfb3055d08",
   "execution_count": 1
  },
  {
   "cell_type": "markdown",
   "source": [
    "3.2获取金融市场数据\n",
    "\n",
    "3.2.1下载数据到指定目录\n",
    "\n",
    "使用Qlib内置的数据源并下载到本地目录，用于后续研究使用："
   ],
   "metadata": {
    "collapsed": false
   },
   "id": "8c6c0427039357e3"
  },
  {
   "cell_type": "code",
   "outputs": [
    {
     "name": "stderr",
     "output_type": "stream",
     "text": [
      "[25080:MainThread](2024-03-05 23:05:33,859) INFO - qlib.Initialization - [config.py:416] - default_conf: client.\n",
      "[25080:MainThread](2024-03-05 23:05:34,552) INFO - qlib.Initialization - [__init__.py:74] - qlib successfully initialized based on client settings.\n",
      "[25080:MainThread](2024-03-05 23:05:34,554) INFO - qlib.Initialization - [__init__.py:76] - data_path={'__DEFAULT_FREQ': WindowsPath('H:/data/qlib/qlib_data/cn_data')}\n"
     ]
    }
   ],
   "source": [
    "import qlib\n",
    "# from qlib.contrib.model.pytorch_alstm_ts import ALSTM\n",
    "from qlib.constant import REG_CN\n",
    "import os\n",
    "# 忽略警告\n",
    "import warnings\n",
    "\n",
    "warnings.filterwarnings('ignore')\n",
    "\n",
    "data_uri = ':/data/qlib/qlib_data/cn_data'\n",
    "data_uri = 'H' + data_uri if os.path.exists('H' + data_uri) else 'E' + data_uri\n",
    "# GetData().qlib_data(target_dir=data_uri, region=REG_CN)\n",
    "qlib.init(provider_uri=data_uri, region=REG_CN)"
   ],
   "metadata": {
    "collapsed": false,
    "ExecuteTime": {
     "end_time": "2024-03-05T15:05:34.557999Z",
     "start_time": "2024-03-05T15:05:32.945275Z"
    }
   },
   "id": "ea915972b53c3364",
   "execution_count": 2
  },
  {
   "cell_type": "markdown",
   "source": [
    "3.2.3数据核心模块类\n",
    "\n",
    "Qlib中关于数据主要有以下三个模块：\n",
    "\n",
    "Data Loader: 从数据源加载数据，数据源可以是已经转换为qlib内置格式的数据，也可以是其他外部数据；\n",
    "\n",
    "Data Handler: 对数据进行预处理，比如常见的缺失值、标准化等；\n",
    "\n",
    "Dataset: 为模型的训练准备数据，类似Pytorch中的Dataset。\n",
    "\n",
    "1)QlibDataLoader"
   ],
   "metadata": {
    "collapsed": false
   },
   "id": "898353a5a2507d9e"
  },
  {
   "cell_type": "code",
   "outputs": [
    {
     "data": {
      "text/plain": "                             open        high         low       close  \\\ndatetime   instrument                                                   \n2009-01-05 SH600519     14.088112   14.291379   13.766463   13.944010   \n2009-01-06 SH600519     13.830784   14.049516   13.545165   13.986463   \n2009-01-07 SH600519     14.013484   14.023776   13.727865   13.739442   \n2009-01-08 SH600519     13.541313   13.968466   13.406219   13.963312   \n2009-01-09 SH600519     13.841075   13.965878   13.766464   13.803778   \n...                           ...         ...         ...         ...   \n2020-09-21 SH600519    360.617889  360.617889  355.057648  355.087494   \n2020-09-22 SH600519    351.508484  359.386536  351.508484  354.850983   \n2020-09-23 SH600519    348.312958  354.919189  345.334717  351.504211   \n2020-09-24 SH600519    348.519592  353.400238  346.566071  347.102905   \n2020-09-25 SH600519    347.247772  351.508484  346.182587  348.336365   \n\n                           volume    change    factor       EMA10       EMA30  \\\ndatetime   instrument                                                           \n2009-01-05 SH600519    10497168.0 -0.002944  0.171244   14.129837   14.297894   \n2009-01-06 SH600519    29655306.0  0.003045  0.171245   14.100548   14.274892   \n2009-01-07 SH600519    11843768.0 -0.017661  0.171244   14.028399   14.235709   \n2009-01-08 SH600519    14483822.0  0.016294  0.171245   14.015625   14.215948   \n2009-01-09 SH600519     9171688.0 -0.011425  0.171244   13.974638   14.186284   \n...                           ...       ...       ...         ...         ...   \n2020-09-21 SH600519    10535369.0 -0.016637  0.213035  364.378723  363.418030   \n2020-09-22 SH600519    10920939.0 -0.000666  0.213035  362.646393  362.865326   \n2020-09-23 SH600519    16769754.0 -0.009432  0.213035  360.620544  362.132355   \n2020-09-24 SH600519    14106000.0 -0.012521  0.213035  358.162781  361.162720   \n2020-09-25 SH600519    10600565.0  0.003554  0.213035  356.376160  360.335205   \n\n                         raw_close  \ndatetime   instrument               \n2009-01-05 SH600519      81.427505  \n2009-01-06 SH600519      81.675400  \n2009-01-07 SH600519      80.232903  \n2009-01-08 SH600519      81.540199  \n2009-01-09 SH600519      80.608597  \n...                            ...  \n2020-09-21 SH600519    1666.800049  \n2020-09-22 SH600519    1665.689819  \n2020-09-23 SH600519    1649.979858  \n2020-09-24 SH600519    1629.319946  \n2020-09-25 SH600519    1635.109863  \n\n[2807 rows x 10 columns]",
      "text/html": "<div>\n<style scoped>\n    .dataframe tbody tr th:only-of-type {\n        vertical-align: middle;\n    }\n\n    .dataframe tbody tr th {\n        vertical-align: top;\n    }\n\n    .dataframe thead th {\n        text-align: right;\n    }\n</style>\n<table border=\"1\" class=\"dataframe\">\n  <thead>\n    <tr style=\"text-align: right;\">\n      <th></th>\n      <th></th>\n      <th>open</th>\n      <th>high</th>\n      <th>low</th>\n      <th>close</th>\n      <th>volume</th>\n      <th>change</th>\n      <th>factor</th>\n      <th>EMA10</th>\n      <th>EMA30</th>\n      <th>raw_close</th>\n    </tr>\n    <tr>\n      <th>datetime</th>\n      <th>instrument</th>\n      <th></th>\n      <th></th>\n      <th></th>\n      <th></th>\n      <th></th>\n      <th></th>\n      <th></th>\n      <th></th>\n      <th></th>\n      <th></th>\n    </tr>\n  </thead>\n  <tbody>\n    <tr>\n      <th>2009-01-05</th>\n      <th>SH600519</th>\n      <td>14.088112</td>\n      <td>14.291379</td>\n      <td>13.766463</td>\n      <td>13.944010</td>\n      <td>10497168.0</td>\n      <td>-0.002944</td>\n      <td>0.171244</td>\n      <td>14.129837</td>\n      <td>14.297894</td>\n      <td>81.427505</td>\n    </tr>\n    <tr>\n      <th>2009-01-06</th>\n      <th>SH600519</th>\n      <td>13.830784</td>\n      <td>14.049516</td>\n      <td>13.545165</td>\n      <td>13.986463</td>\n      <td>29655306.0</td>\n      <td>0.003045</td>\n      <td>0.171245</td>\n      <td>14.100548</td>\n      <td>14.274892</td>\n      <td>81.675400</td>\n    </tr>\n    <tr>\n      <th>2009-01-07</th>\n      <th>SH600519</th>\n      <td>14.013484</td>\n      <td>14.023776</td>\n      <td>13.727865</td>\n      <td>13.739442</td>\n      <td>11843768.0</td>\n      <td>-0.017661</td>\n      <td>0.171244</td>\n      <td>14.028399</td>\n      <td>14.235709</td>\n      <td>80.232903</td>\n    </tr>\n    <tr>\n      <th>2009-01-08</th>\n      <th>SH600519</th>\n      <td>13.541313</td>\n      <td>13.968466</td>\n      <td>13.406219</td>\n      <td>13.963312</td>\n      <td>14483822.0</td>\n      <td>0.016294</td>\n      <td>0.171245</td>\n      <td>14.015625</td>\n      <td>14.215948</td>\n      <td>81.540199</td>\n    </tr>\n    <tr>\n      <th>2009-01-09</th>\n      <th>SH600519</th>\n      <td>13.841075</td>\n      <td>13.965878</td>\n      <td>13.766464</td>\n      <td>13.803778</td>\n      <td>9171688.0</td>\n      <td>-0.011425</td>\n      <td>0.171244</td>\n      <td>13.974638</td>\n      <td>14.186284</td>\n      <td>80.608597</td>\n    </tr>\n    <tr>\n      <th>...</th>\n      <th>...</th>\n      <td>...</td>\n      <td>...</td>\n      <td>...</td>\n      <td>...</td>\n      <td>...</td>\n      <td>...</td>\n      <td>...</td>\n      <td>...</td>\n      <td>...</td>\n      <td>...</td>\n    </tr>\n    <tr>\n      <th>2020-09-21</th>\n      <th>SH600519</th>\n      <td>360.617889</td>\n      <td>360.617889</td>\n      <td>355.057648</td>\n      <td>355.087494</td>\n      <td>10535369.0</td>\n      <td>-0.016637</td>\n      <td>0.213035</td>\n      <td>364.378723</td>\n      <td>363.418030</td>\n      <td>1666.800049</td>\n    </tr>\n    <tr>\n      <th>2020-09-22</th>\n      <th>SH600519</th>\n      <td>351.508484</td>\n      <td>359.386536</td>\n      <td>351.508484</td>\n      <td>354.850983</td>\n      <td>10920939.0</td>\n      <td>-0.000666</td>\n      <td>0.213035</td>\n      <td>362.646393</td>\n      <td>362.865326</td>\n      <td>1665.689819</td>\n    </tr>\n    <tr>\n      <th>2020-09-23</th>\n      <th>SH600519</th>\n      <td>348.312958</td>\n      <td>354.919189</td>\n      <td>345.334717</td>\n      <td>351.504211</td>\n      <td>16769754.0</td>\n      <td>-0.009432</td>\n      <td>0.213035</td>\n      <td>360.620544</td>\n      <td>362.132355</td>\n      <td>1649.979858</td>\n    </tr>\n    <tr>\n      <th>2020-09-24</th>\n      <th>SH600519</th>\n      <td>348.519592</td>\n      <td>353.400238</td>\n      <td>346.566071</td>\n      <td>347.102905</td>\n      <td>14106000.0</td>\n      <td>-0.012521</td>\n      <td>0.213035</td>\n      <td>358.162781</td>\n      <td>361.162720</td>\n      <td>1629.319946</td>\n    </tr>\n    <tr>\n      <th>2020-09-25</th>\n      <th>SH600519</th>\n      <td>347.247772</td>\n      <td>351.508484</td>\n      <td>346.182587</td>\n      <td>348.336365</td>\n      <td>10600565.0</td>\n      <td>0.003554</td>\n      <td>0.213035</td>\n      <td>356.376160</td>\n      <td>360.335205</td>\n      <td>1635.109863</td>\n    </tr>\n  </tbody>\n</table>\n<p>2807 rows × 10 columns</p>\n</div>"
     },
     "execution_count": 3,
     "metadata": {},
     "output_type": "execute_result"
    }
   ],
   "source": [
    "from qlib.data.dataset.loader import QlibDataLoader\n",
    "\n",
    "# 除了直接加载原始特征，有时我们需要对不同的原始特征做一些运算生成新的特征，比如我们想计算收盘价的均线。这时我们可以使用qlib的算式表达式功能，直接在加载时进行计算\n",
    "QlibDataLoader(config=(\n",
    "    ['$open', '$high', '$low', '$close', '$volume', '$change', '$factor', 'EMA($close, 10)', 'EMA($close, 30)',\n",
    "     '$close/$factor'],\n",
    "    ['open', 'high', 'low', 'close', 'volume', 'change', 'factor', 'EMA10', 'EMA30', 'raw_close'])\n",
    ").load(instruments=['SH600519'], start_time='20090105', end_time='20200925')"
   ],
   "metadata": {
    "collapsed": false,
    "ExecuteTime": {
     "end_time": "2024-03-05T15:05:34.700571Z",
     "start_time": "2024-03-05T15:05:34.558999Z"
    }
   },
   "id": "cab77404d6fa2290",
   "execution_count": 3
  },
  {
   "cell_type": "code",
   "outputs": [
    {
     "data": {
      "text/plain": "                           EMA10      EMA30\ndatetime   instrument                      \n2019-01-02 SH600000     7.092837   7.416340\n           SH600009    16.543882  16.482178\n           SH600010     5.285407   5.401525\n           SH600011     2.703071   2.677347\n           SH600015     5.976167   6.117362\n...                          ...        ...\n2019-01-10 SZ002415     8.722863   8.680843\n           SZ002450     5.595629   6.127040\n           SZ002594     2.021440   2.096986\n           SZ002736     1.119112   1.119617\n           SZ300059    10.143766  10.217589\n\n[700 rows x 2 columns]",
      "text/html": "<div>\n<style scoped>\n    .dataframe tbody tr th:only-of-type {\n        vertical-align: middle;\n    }\n\n    .dataframe tbody tr th {\n        vertical-align: top;\n    }\n\n    .dataframe thead th {\n        text-align: right;\n    }\n</style>\n<table border=\"1\" class=\"dataframe\">\n  <thead>\n    <tr style=\"text-align: right;\">\n      <th></th>\n      <th></th>\n      <th>EMA10</th>\n      <th>EMA30</th>\n    </tr>\n    <tr>\n      <th>datetime</th>\n      <th>instrument</th>\n      <th></th>\n      <th></th>\n    </tr>\n  </thead>\n  <tbody>\n    <tr>\n      <th rowspan=\"5\" valign=\"top\">2019-01-02</th>\n      <th>SH600000</th>\n      <td>7.092837</td>\n      <td>7.416340</td>\n    </tr>\n    <tr>\n      <th>SH600009</th>\n      <td>16.543882</td>\n      <td>16.482178</td>\n    </tr>\n    <tr>\n      <th>SH600010</th>\n      <td>5.285407</td>\n      <td>5.401525</td>\n    </tr>\n    <tr>\n      <th>SH600011</th>\n      <td>2.703071</td>\n      <td>2.677347</td>\n    </tr>\n    <tr>\n      <th>SH600015</th>\n      <td>5.976167</td>\n      <td>6.117362</td>\n    </tr>\n    <tr>\n      <th>...</th>\n      <th>...</th>\n      <td>...</td>\n      <td>...</td>\n    </tr>\n    <tr>\n      <th rowspan=\"5\" valign=\"top\">2019-01-10</th>\n      <th>SZ002415</th>\n      <td>8.722863</td>\n      <td>8.680843</td>\n    </tr>\n    <tr>\n      <th>SZ002450</th>\n      <td>5.595629</td>\n      <td>6.127040</td>\n    </tr>\n    <tr>\n      <th>SZ002594</th>\n      <td>2.021440</td>\n      <td>2.096986</td>\n    </tr>\n    <tr>\n      <th>SZ002736</th>\n      <td>1.119112</td>\n      <td>1.119617</td>\n    </tr>\n    <tr>\n      <th>SZ300059</th>\n      <td>10.143766</td>\n      <td>10.217589</td>\n    </tr>\n  </tbody>\n</table>\n<p>700 rows × 2 columns</p>\n</div>"
     },
     "execution_count": 4,
     "metadata": {},
     "output_type": "execute_result"
    }
   ],
   "source": [
    "# instruments可以是个股代码（返回时序数据）或股票池代码（返回面板数据）\n",
    "QlibDataLoader(config=(\n",
    "    ['EMA($close, 10)', 'EMA($close, 30)'],\n",
    "    ['EMA10', 'EMA30'])\n",
    ").load(instruments='csi100',  # 沪深300股票池代码，在instruments文件夹下有对应的sh000300.txt\n",
    "       start_time='20190101', end_time='20190110')"
   ],
   "metadata": {
    "collapsed": false,
    "ExecuteTime": {
     "end_time": "2024-03-05T15:05:49.697784Z",
     "start_time": "2024-03-05T15:05:34.701460Z"
    }
   },
   "id": "a800fd882ce70192",
   "execution_count": 4
  },
  {
   "cell_type": "markdown",
   "source": [
    "qlib把类似“EMA”称为算子（operator），qlib中全部支持的算子可以在以下源码中找到：/qlib/data/ops.py中，主要有：\n",
    "\n",
    "ChangeInstrument, Rolling, Ref, Max, Min, Sum, Mean, Std, Var, Skew, Kurt, Med, Mad, Slope, Rsquare, Resi, Rank, Quantile, Count, EMA, WMA, Corr, Cov, Delta, Abs, Sign, Log, Power, Add, Sub, Mul, Div, Greater, Less, And, Or, Not, Gt, Ge, Lt, Le, Eq, Ne, Mask, IdxMax, IdxMin, If, Feature, PFeature，\n",
    "\n",
    "\n"
   ],
   "metadata": {
    "collapsed": false
   },
   "id": "20a4055f470d10c9"
  },
  {
   "cell_type": "code",
   "outputs": [
    {
     "data": {
      "text/plain": "                         feature                label\n                           EMA10      EMA30  next_ret\ndatetime   instrument                                \n2019-01-02 SH600000     7.092837   7.416340  0.011340\n           SH600009    16.543882  16.482178 -0.013497\n           SH600010     5.285407   5.401525  0.013605\n           SH600011     2.703071   2.677347 -0.026426\n           SH600015     5.976167   6.117362  0.005472\n...                          ...        ...       ...\n2019-01-10 SZ002415     8.722863   8.680843  0.004236\n           SZ002450     5.595629   6.127040 -0.033163\n           SZ002594     2.021440   2.096986  0.003480\n           SZ002736     1.119112   1.119617  0.001148\n           SZ300059    10.143766  10.217589  0.011990\n\n[700 rows x 3 columns]",
      "text/html": "<div>\n<style scoped>\n    .dataframe tbody tr th:only-of-type {\n        vertical-align: middle;\n    }\n\n    .dataframe tbody tr th {\n        vertical-align: top;\n    }\n\n    .dataframe thead tr th {\n        text-align: left;\n    }\n\n    .dataframe thead tr:last-of-type th {\n        text-align: right;\n    }\n</style>\n<table border=\"1\" class=\"dataframe\">\n  <thead>\n    <tr>\n      <th></th>\n      <th></th>\n      <th colspan=\"2\" halign=\"left\">feature</th>\n      <th>label</th>\n    </tr>\n    <tr>\n      <th></th>\n      <th></th>\n      <th>EMA10</th>\n      <th>EMA30</th>\n      <th>next_ret</th>\n    </tr>\n    <tr>\n      <th>datetime</th>\n      <th>instrument</th>\n      <th></th>\n      <th></th>\n      <th></th>\n    </tr>\n  </thead>\n  <tbody>\n    <tr>\n      <th rowspan=\"5\" valign=\"top\">2019-01-02</th>\n      <th>SH600000</th>\n      <td>7.092837</td>\n      <td>7.416340</td>\n      <td>0.011340</td>\n    </tr>\n    <tr>\n      <th>SH600009</th>\n      <td>16.543882</td>\n      <td>16.482178</td>\n      <td>-0.013497</td>\n    </tr>\n    <tr>\n      <th>SH600010</th>\n      <td>5.285407</td>\n      <td>5.401525</td>\n      <td>0.013605</td>\n    </tr>\n    <tr>\n      <th>SH600011</th>\n      <td>2.703071</td>\n      <td>2.677347</td>\n      <td>-0.026426</td>\n    </tr>\n    <tr>\n      <th>SH600015</th>\n      <td>5.976167</td>\n      <td>6.117362</td>\n      <td>0.005472</td>\n    </tr>\n    <tr>\n      <th>...</th>\n      <th>...</th>\n      <td>...</td>\n      <td>...</td>\n      <td>...</td>\n    </tr>\n    <tr>\n      <th rowspan=\"5\" valign=\"top\">2019-01-10</th>\n      <th>SZ002415</th>\n      <td>8.722863</td>\n      <td>8.680843</td>\n      <td>0.004236</td>\n    </tr>\n    <tr>\n      <th>SZ002450</th>\n      <td>5.595629</td>\n      <td>6.127040</td>\n      <td>-0.033163</td>\n    </tr>\n    <tr>\n      <th>SZ002594</th>\n      <td>2.021440</td>\n      <td>2.096986</td>\n      <td>0.003480</td>\n    </tr>\n    <tr>\n      <th>SZ002736</th>\n      <td>1.119112</td>\n      <td>1.119617</td>\n      <td>0.001148</td>\n    </tr>\n    <tr>\n      <th>SZ300059</th>\n      <td>10.143766</td>\n      <td>10.217589</td>\n      <td>0.011990</td>\n    </tr>\n  </tbody>\n</table>\n<p>700 rows × 3 columns</p>\n</div>"
     },
     "execution_count": 5,
     "metadata": {},
     "output_type": "execute_result"
    }
   ],
   "source": [
    "# 有时我们需要对计算的数据进行分组，最常用的是分为特征组“feature”和“label”组，此时我们可以传入dict格式的参数至config中\n",
    "QlibDataLoader(config={\n",
    "    'feature': (\n",
    "        ['EMA($close, 10)', 'EMA($close, 30)'],\n",
    "        ['EMA10', 'EMA30']),\n",
    "    'label': (\n",
    "        [\"Ref($close, -1)/$close-1\"],\n",
    "        ['next_ret'])}\n",
    ").load(instruments='csi100', start_time='20190101', end_time='20190110')"
   ],
   "metadata": {
    "collapsed": false,
    "ExecuteTime": {
     "end_time": "2024-03-05T15:06:18.215597Z",
     "start_time": "2024-03-05T15:05:49.700783Z"
    }
   },
   "id": "eeea42e5dcf578cf",
   "execution_count": 5
  },
  {
   "cell_type": "markdown",
   "source": [
    "2）Data Handler\n",
    "\n",
    "通过Data Loader加载特征后，模型训练前需要对特征数据进行一些预处理，比如缺失值、标准化等处理。这是Data Handler主要任务。我们先看一个案例：\n",
    "\n"
   ],
   "metadata": {
    "collapsed": false
   },
   "id": "42f17f35850eb1b"
  },
  {
   "cell_type": "code",
   "outputs": [
    {
     "name": "stdout",
     "output_type": "stream",
     "text": [
      "Return    12\n",
      "dtype: int64\n"
     ]
    },
    {
     "name": "stderr",
     "output_type": "stream",
     "text": [
      "[25080:MainThread](2024-03-05 23:06:46,696) INFO - qlib.timer - [log.py:127] - Time cost: 13.989s | Loading data Done\n",
      "[25080:MainThread](2024-03-05 23:06:46,699) INFO - qlib.timer - [log.py:127] - Time cost: 0.001s | DropnaProcessor Done\n",
      "[25080:MainThread](2024-03-05 23:06:46,711) INFO - qlib.timer - [log.py:127] - Time cost: 0.011s | CSZScoreNorm Done\n",
      "[25080:MainThread](2024-03-05 23:06:46,712) INFO - qlib.timer - [log.py:127] - Time cost: 0.014s | fit & process data Done\n",
      "[25080:MainThread](2024-03-05 23:06:46,713) INFO - qlib.timer - [log.py:127] - Time cost: 14.006s | Init data Done\n"
     ]
    },
    {
     "name": "stdout",
     "output_type": "stream",
     "text": [
      "Return    0\n",
      "dtype: int64\n"
     ]
    },
    {
     "data": {
      "text/plain": "array([[<Axes: title={'center': 'Return'}>]], dtype=object)"
     },
     "execution_count": 6,
     "metadata": {},
     "output_type": "execute_result"
    },
    {
     "data": {
      "text/plain": "<Figure size 640x480 with 1 Axes>",
      "image/png": "[encoded data removed]"
     },
     "metadata": {},
     "output_type": "display_data"
    },
    {
     "data": {
      "text/plain": "<Figure size 640x480 with 1 Axes>",
      "image/png": "[encoded data removed]"
     },
     "metadata": {},
     "output_type": "display_data"
    }
   ],
   "source": [
    "from qlib.data.dataset.handler import DataHandlerLP\n",
    "from qlib.data.dataset.processor import CSZScoreNorm, DropnaProcessor\n",
    "\n",
    "##################################\n",
    "qdl = QlibDataLoader(config=(['$close/Ref($close, 1)-1'], ['Return']))\n",
    "df = qdl.load(instruments='csi100', start_time='20190101', end_time='20190110')\n",
    "# 是否有空值\n",
    "print(df.isna().sum())\n",
    "# 原始数据分布\n",
    "df.xs('2019-01-10').hist()\n",
    "##################################\n",
    "dh = DataHandlerLP(  # DataHandler with (L)earnable (P)rocessor\n",
    "    instruments='csi100', start_time='20190101', end_time='20190110',\n",
    "    learn_processors=[DropnaProcessor(), CSZScoreNorm()],  # 先去空值，再截面标准化\n",
    "    data_loader=qdl)\n",
    "#     - DK_R / self._data: the raw data loaded from the loader\n",
    "#     - DK_I / self._infer: the data processed for inference\n",
    "#     - DK_L / self._learn: the data processed for learning model.\n",
    "df_hdl = dh.fetch(data_key=DataHandlerLP.DK_L)  # (D)ata (K)ey 'learn'\n",
    "# 查看是否还存在空值\n",
    "print(df_hdl.isna().sum())\n",
    "# CSZScoreNorm截面标准化处理后的数据分布\n",
    "df_hdl.xs('2019-01-10').hist()"
   ],
   "metadata": {
    "collapsed": false,
    "ExecuteTime": {
     "end_time": "2024-03-05T15:06:47.045679Z",
     "start_time": "2024-03-05T15:06:18.217569Z"
    }
   },
   "id": "cd057d0f0b333419",
   "execution_count": 6
  },
  {
   "cell_type": "markdown",
   "source": [
    "从以上的例子可以看出，实例化Data Handler需要以下几个参数：\n",
    "\n",
    "基本信息，如instruments，start_time，end_time\n",
    "\n",
    "infer_processors，数据处理器，列表格式。由Dataloader加载的数据会依次经过该列表中的processor进行处理。（后面会详细介绍）\n",
    "\n",
    "data_loader，数据加载器实例。\n",
    "\n",
    "Data Handler实例化之后，通过fetch方法获取处理后的数据，这里的参数DataHandlerLP.DK_L会在Learn Processor VS Infer Processor详细介绍。\n",
    "\n",
    "3）Dataset\n",
    "\n",
    "Dataset主要是为模型训练注入数据，其中主要的参数有：\n",
    "\n",
    "handler：实例化的Data Handler\n",
    "\n",
    "segment：训练、验证、测试数据集的划分\n",
    "\n",
    "一个完整的代码示例如下："
   ],
   "metadata": {
    "collapsed": false
   },
   "id": "29c924d4c247fa15"
  },
  {
   "cell_type": "code",
   "outputs": [
    {
     "name": "stderr",
     "output_type": "stream",
     "text": [
      "[25080:MainThread](2024-03-05 23:07:15,109) INFO - qlib.timer - [log.py:127] - Time cost: 28.058s | Loading data Done\n",
      "[25080:MainThread](2024-03-05 23:07:15,116) INFO - qlib.timer - [log.py:127] - Time cost: 0.006s | DropnaProcessor Done\n",
      "[25080:MainThread](2024-03-05 23:07:15,176) INFO - qlib.timer - [log.py:127] - Time cost: 0.058s | ZScoreNorm Done\n",
      "[25080:MainThread](2024-03-05 23:07:16,305) INFO - qlib.timer - [log.py:127] - Time cost: 1.125s | CSZScoreNorm Done\n",
      "[25080:MainThread](2024-03-05 23:07:16,306) INFO - qlib.timer - [log.py:127] - Time cost: 1.196s | fit & process data Done\n",
      "[25080:MainThread](2024-03-05 23:07:16,306) INFO - qlib.timer - [log.py:127] - Time cost: 29.255s | Init data Done\n"
     ]
    },
    {
     "data": {
      "text/plain": "                          EMA10     EMA30  next_ret\ndatetime   instrument                              \n2016-01-04 SH600000   -0.120305 -0.120022  0.469636\n           SH600010   -0.119592 -0.118803  1.274610\n           SH600011   -0.140072 -0.140143 -0.120704\n           SH600015   -0.124963 -0.125563  0.276519\n           SH600016   -0.099245 -0.100489  0.520611\n...                         ...       ...       ...\n2018-12-28 SZ002415   -0.121156 -0.120752 -0.216053\n           SZ002450   -0.129216 -0.127331 -2.704178\n           SZ002594   -0.142672 -0.142801 -1.851776\n           SZ002736   -0.146067 -0.146235 -0.427841\n           SZ300059   -0.116066 -0.115437 -1.064005\n\n[68157 rows x 3 columns]",
      "text/html": "<div>\n<style scoped>\n    .dataframe tbody tr th:only-of-type {\n        vertical-align: middle;\n    }\n\n    .dataframe tbody tr th {\n        vertical-align: top;\n    }\n\n    .dataframe thead th {\n        text-align: right;\n    }\n</style>\n<table border=\"1\" class=\"dataframe\">\n  <thead>\n    <tr style=\"text-align: right;\">\n      <th></th>\n      <th></th>\n      <th>EMA10</th>\n      <th>EMA30</th>\n      <th>next_ret</th>\n    </tr>\n    <tr>\n      <th>datetime</th>\n      <th>instrument</th>\n      <th></th>\n      <th></th>\n      <th></th>\n    </tr>\n  </thead>\n  <tbody>\n    <tr>\n      <th rowspan=\"5\" valign=\"top\">2016-01-04</th>\n      <th>SH600000</th>\n      <td>-0.120305</td>\n      <td>-0.120022</td>\n      <td>0.469636</td>\n    </tr>\n    <tr>\n      <th>SH600010</th>\n      <td>-0.119592</td>\n      <td>-0.118803</td>\n      <td>1.274610</td>\n    </tr>\n    <tr>\n      <th>SH600011</th>\n      <td>-0.140072</td>\n      <td>-0.140143</td>\n      <td>-0.120704</td>\n    </tr>\n    <tr>\n      <th>SH600015</th>\n      <td>-0.124963</td>\n      <td>-0.125563</td>\n      <td>0.276519</td>\n    </tr>\n    <tr>\n      <th>SH600016</th>\n      <td>-0.099245</td>\n      <td>-0.100489</td>\n      <td>0.520611</td>\n    </tr>\n    <tr>\n      <th>...</th>\n      <th>...</th>\n      <td>...</td>\n      <td>...</td>\n      <td>...</td>\n    </tr>\n    <tr>\n      <th rowspan=\"5\" valign=\"top\">2018-12-28</th>\n      <th>SZ002415</th>\n      <td>-0.121156</td>\n      <td>-0.120752</td>\n      <td>-0.216053</td>\n    </tr>\n    <tr>\n      <th>SZ002450</th>\n      <td>-0.129216</td>\n      <td>-0.127331</td>\n      <td>-2.704178</td>\n    </tr>\n    <tr>\n      <th>SZ002594</th>\n      <td>-0.142672</td>\n      <td>-0.142801</td>\n      <td>-1.851776</td>\n    </tr>\n    <tr>\n      <th>SZ002736</th>\n      <td>-0.146067</td>\n      <td>-0.146235</td>\n      <td>-0.427841</td>\n    </tr>\n    <tr>\n      <th>SZ300059</th>\n      <td>-0.116066</td>\n      <td>-0.115437</td>\n      <td>-1.064005</td>\n    </tr>\n  </tbody>\n</table>\n<p>68157 rows × 3 columns</p>\n</div>"
     },
     "execution_count": 7,
     "metadata": {},
     "output_type": "execute_result"
    }
   ],
   "source": [
    "from qlib.data.dataset.processor import ZScoreNorm\n",
    "from qlib.data.dataset import DatasetH\n",
    "\n",
    "market = 'csi100'\n",
    "qdl_ma_gp = QlibDataLoader(config={\n",
    "    'feature': (\n",
    "        ['EMA($close, 10)', 'EMA($close, 30)'],\n",
    "        ['EMA10', 'EMA30']),\n",
    "    'label': (\n",
    "        [\"Ref($close, -1)/$close-1\"],  # Ref($close, -1)表示下一日收盘价\n",
    "        ['next_ret'])})  # 下一日收益率\n",
    "dh_pr_test = DataHandlerLP(\n",
    "    instruments='csi100',\n",
    "    start_time='20160101',\n",
    "    end_time='20191231',\n",
    "    process_type=DataHandlerLP.PTYPE_I,\n",
    "    # PTYPE_I = \"independent\"\n",
    "    # # - self._infer will be processed by shared_processors + infer_processors\n",
    "    # # - self._learn will be processed by shared_processors + learn_processors\n",
    "    # PTYPE_A = \"append\"\n",
    "    # # - self._infer will be processed by shared_processors + infer_processors\n",
    "    # # - self._learn will be processed by shared_processors + infer_processors + learn_processors    \n",
    "    infer_processors=[ZScoreNorm(fit_start_time='20160101', fit_end_time='20181231')],\n",
    "    # processor that applies z-score normalization\n",
    "    learn_processors=[CSZScoreNorm()],  # processor that applies cross sectional z-score normalization\n",
    "    shared_processors=[DropnaProcessor()],\n",
    "    data_loader=qdl_ma_gp)\n",
    "ds = DatasetH(dh_pr_test, segments={\"train\": ('20160101', '20181231'), \"test\": ('20190101', '20191231')})\n",
    "# 准备训练数据\n",
    "ds.prepare('train')"
   ],
   "metadata": {
    "collapsed": false,
    "ExecuteTime": {
     "end_time": "2024-03-05T15:07:16.340219Z",
     "start_time": "2024-03-05T15:06:47.047650Z"
    }
   },
   "id": "b23d317fad260b56",
   "execution_count": 7
  },
  {
   "cell_type": "code",
   "outputs": [
    {
     "data": {
      "text/plain": "                          EMA10     EMA30  next_ret\ndatetime   instrument                              \n2019-01-02 SH600000   -0.125632 -0.124848  0.591682\n           SH600009   -0.094255 -0.094215 -0.693500\n           SH600010   -0.131899 -0.131677  0.708892\n           SH600011   -0.140658 -0.141039 -1.362451\n           SH600015   -0.129555 -0.129227  0.288035\n...                         ...       ...       ...\n2019-12-31 SZ002594   -0.143487 -0.143866  0.547622\n           SZ002736   -0.144432 -0.144773  1.530397\n           SZ300015   -0.083752 -0.082330 -0.073581\n           SZ300059   -0.099507 -0.100803  0.431442\n           SZ300498   -0.146499 -0.146646  1.098290\n\n[23969 rows x 3 columns]",
      "text/html": "<div>\n<style scoped>\n    .dataframe tbody tr th:only-of-type {\n        vertical-align: middle;\n    }\n\n    .dataframe tbody tr th {\n        vertical-align: top;\n    }\n\n    .dataframe thead th {\n        text-align: right;\n    }\n</style>\n<table border=\"1\" class=\"dataframe\">\n  <thead>\n    <tr style=\"text-align: right;\">\n      <th></th>\n      <th></th>\n      <th>EMA10</th>\n      <th>EMA30</th>\n      <th>next_ret</th>\n    </tr>\n    <tr>\n      <th>datetime</th>\n      <th>instrument</th>\n      <th></th>\n      <th></th>\n      <th></th>\n    </tr>\n  </thead>\n  <tbody>\n    <tr>\n      <th rowspan=\"5\" valign=\"top\">2019-01-02</th>\n      <th>SH600000</th>\n      <td>-0.125632</td>\n      <td>-0.124848</td>\n      <td>0.591682</td>\n    </tr>\n    <tr>\n      <th>SH600009</th>\n      <td>-0.094255</td>\n      <td>-0.094215</td>\n      <td>-0.693500</td>\n    </tr>\n    <tr>\n      <th>SH600010</th>\n      <td>-0.131899</td>\n      <td>-0.131677</td>\n      <td>0.708892</td>\n    </tr>\n    <tr>\n      <th>SH600011</th>\n      <td>-0.140658</td>\n      <td>-0.141039</td>\n      <td>-1.362451</td>\n    </tr>\n    <tr>\n      <th>SH600015</th>\n      <td>-0.129555</td>\n      <td>-0.129227</td>\n      <td>0.288035</td>\n    </tr>\n    <tr>\n      <th>...</th>\n      <th>...</th>\n      <td>...</td>\n      <td>...</td>\n      <td>...</td>\n    </tr>\n    <tr>\n      <th rowspan=\"5\" valign=\"top\">2019-12-31</th>\n      <th>SZ002594</th>\n      <td>-0.143487</td>\n      <td>-0.143866</td>\n      <td>0.547622</td>\n    </tr>\n    <tr>\n      <th>SZ002736</th>\n      <td>-0.144432</td>\n      <td>-0.144773</td>\n      <td>1.530397</td>\n    </tr>\n    <tr>\n      <th>SZ300015</th>\n      <td>-0.083752</td>\n      <td>-0.082330</td>\n      <td>-0.073581</td>\n    </tr>\n    <tr>\n      <th>SZ300059</th>\n      <td>-0.099507</td>\n      <td>-0.100803</td>\n      <td>0.431442</td>\n    </tr>\n    <tr>\n      <th>SZ300498</th>\n      <td>-0.146499</td>\n      <td>-0.146646</td>\n      <td>1.098290</td>\n    </tr>\n  </tbody>\n</table>\n<p>23969 rows × 3 columns</p>\n</div>"
     },
     "execution_count": 8,
     "metadata": {},
     "output_type": "execute_result"
    }
   ],
   "source": [
    "# 准备测试数据\n",
    "ds.prepare('test')"
   ],
   "metadata": {
    "collapsed": false,
    "ExecuteTime": {
     "end_time": "2024-03-05T15:07:16.371471Z",
     "start_time": "2024-03-05T15:07:16.342190Z"
    }
   },
   "id": "5d43de810ae781ed",
   "execution_count": 8
  },
  {
   "cell_type": "markdown",
   "source": [
    "4.1数据\n",
    "1）初始化\n",
    "\n",
    "2）获取交易日期和全部股票代码"
   ],
   "metadata": {
    "collapsed": false
   },
   "id": "437048e1ac76afe1"
  },
  {
   "cell_type": "code",
   "outputs": [
    {
     "name": "stdout",
     "output_type": "stream",
     "text": [
      "[Timestamp('2020-01-02 00:00:00') Timestamp('2020-01-03 00:00:00')\n",
      " Timestamp('2020-01-06 00:00:00') Timestamp('2020-01-07 00:00:00')\n",
      " Timestamp('2020-01-08 00:00:00')]\n",
      "['SZ300891', 'SZ300892', 'SZ300893', 'SZ300895', 'SH000905']\n"
     ]
    }
   ],
   "source": [
    "# 获取日历\n",
    "from qlib.data import D\n",
    "\n",
    "tradedate = D.calendar(start_time='2020-01-01', end_time='2020-11-30', freq='day')\n",
    "print(tradedate[:5])\n",
    "# 获取所有证券代码\n",
    "instruments = D.instruments(market='all')\n",
    "stock_list = D.list_instruments(instruments=instruments,\n",
    "                                start_time='2020-07-01',\n",
    "                                end_time='2020-11-30',\n",
    "                                as_list=True)\n",
    "print(stock_list[-5:])"
   ],
   "metadata": {
    "collapsed": false,
    "ExecuteTime": {
     "end_time": "2024-03-05T15:07:16.463491Z",
     "start_time": "2024-03-05T15:07:16.373443Z"
    }
   },
   "id": "ccd7ebff6eb61036",
   "execution_count": 9
  },
  {
   "cell_type": "markdown",
   "source": [
    "3）获取字段数据\n",
    "\n",
    "调用qlib.data.features模块可以获取指定股票指定日期指定字段数据，例如下图展示获取惠云钛业（SZ300891）在2020-01-01~2020-11-30日频后复权收盘价和成交量。"
   ],
   "metadata": {
    "collapsed": false
   },
   "id": "ff69c0be75c7faf8"
  },
  {
   "cell_type": "code",
   "outputs": [
    {
     "name": "stdout",
     "output_type": "stream",
     "text": [
      "                         $close       $volume\n",
      "instrument datetime                          \n",
      "SZ300891   2020-09-17  1.000000  1.617669e+09\n",
      "           2020-09-18  0.881890  1.203641e+09\n",
      "           2020-09-21  0.871391  7.776675e+08\n",
      "           2020-09-22  0.843832  6.129917e+08\n",
      "           2020-09-23  0.851269  6.875450e+08\n"
     ]
    }
   ],
   "source": [
    "#3. 获取指定股票指定日期指定字段数据\n",
    "features_df = D.features(instruments=['SZ300891'],\n",
    "                         fields=['$close', ' $volume'],\n",
    "                         start_time='2020-01-01',\n",
    "                         end_time='2020-11-30',\n",
    "                         freq='day')\n",
    "print(features_df.head())"
   ],
   "metadata": {
    "collapsed": false,
    "ExecuteTime": {
     "end_time": "2024-03-05T15:07:16.527495Z",
     "start_time": "2024-03-05T15:07:16.465461Z"
    }
   },
   "id": "7581b6daad7c363d",
   "execution_count": 10
  },
  {
   "cell_type": "markdown",
   "source": [],
   "metadata": {
    "collapsed": false
   },
   "id": "f61fd2ff59fb5b3f"
  },
  {
   "cell_type": "markdown",
   "source": [
    "4.2股票池\n",
    "\n",
    "使用qlib.data.filter.NameDFilter命令进行股票名称静态筛选，参数name_rule_re为纳入股票代码的正则表达式，如HK[0-9!]表示以HK开头，后续为数字或感叹号的股票代码，感叹号代表目前已退市股票。\n",
    "\n",
    "其次，使用qlib.data.filter.ExpressionDFilter命令进行股票因子表达式的动态筛选，参数rule_expression为入选的因子表达式，如$close>=1代表收盘价应大于等于1元。\n",
    "\n",
    "随后，通过qlib.data.instruments命令的参数filter_pipe，将两个筛选条件组装到一起，代码如下：\n",
    "\n",
    "- 不加if __name__=='__main__' ，会报错“RuntimeError: An attempt has been made to start a new process before the current process has finished its bootstrapping phase.”\n"
   ],
   "metadata": {
    "collapsed": false
   },
   "id": "4289b1a69b43190"
  },
  {
   "cell_type": "code",
   "outputs": [
    {
     "name": "stdout",
     "output_type": "stream",
     "text": [
      "['SZ300782', 'SZ300803', 'SZ300831', 'SZ300841', 'SZ300846']\n",
      "['SZ300891', 'SZ300892', 'SZ300893', 'SZ300895', 'SH000905']\n"
     ]
    }
   ],
   "source": [
    "if __name__ == '__main__':\n",
    "    from qlib.data.filter import NameDFilter, ExpressionDFilter\n",
    "\n",
    "    # 静态Filter:深交所A股\n",
    "    nameDFilter = NameDFilter(name_rule_re='SZ[0-9!]')\n",
    "    # 动态Filter:后复权价格大于等于1元\n",
    "    expressionDFilter = ExpressionDFilter(rule_expression='$close>=5')\n",
    "    #按以上两个过滤条件获取新的股票代码集\n",
    "    instruments = D.instruments(market='all', filter_pipe=[nameDFilter, expressionDFilter])\n",
    "    stock_list = D.list_instruments(instruments=instruments,\n",
    "                                    start_time='2020-07-01',\n",
    "                                    end_time='2020-11-30',\n",
    "                                    as_list=True)\n",
    "    #展示条件过滤后的5个股票代码\n",
    "    print(stock_list[-5:])\n",
    "    # 不过滤\n",
    "    instruments = D.instruments(market='all')\n",
    "    stock_list = D.list_instruments(instruments=instruments,\n",
    "                                    start_time='2020-07-01',\n",
    "                                    end_time='2020-11-30',\n",
    "                                    as_list=True)\n",
    "    #展示条件过滤后的5个股票代码\n",
    "    print(stock_list[-5:])"
   ],
   "metadata": {
    "collapsed": false,
    "ExecuteTime": {
     "end_time": "2024-03-05T15:07:53.955591Z",
     "start_time": "2024-03-05T15:07:16.530464Z"
    }
   },
   "id": "43db8817c28013d8",
   "execution_count": 11
  },
  {
   "cell_type": "markdown",
   "source": [
    "4.3因子\n",
    "\n",
    "Qlib提供Alpha158和Alpha360两类量价因子库，用户也可根据需要自定义因子库。源码位于qlib/contrib/data/handler.py，主要包括两个四个类：\n",
    "\n",
    "Alpha360(DataHandlerLP)、Alpha360vwap(Alpha360)\n",
    "Alpha158(DataHandlerLP)、Alpha158vwap(Alpha360)\n",
    "配置文件对应的代码说明如下：\n",
    "\n",
    "```python\n",
    "def parse_config_to_fields(config):\n",
    " \"\"\"create factors from config\n",
    "        config = {\n",
    "            'kbar': {}, # whether to use some hard-code kbar features\n",
    "            'price': { # whether to use raw price features\n",
    "                'windows': [0, 1, 2, 3, 4], # use price at n days ago\n",
    "                'feature': ['OPEN', 'HIGH', 'LOW'] # which price field to use\n",
    "            },\n",
    "            'volume': { # whether to use raw volume features\n",
    "                'windows': [0, 1, 2, 3, 4], # use volume at n days ago\n",
    "            },\n",
    "            'rolling': { # whether to use rolling operator based features\n",
    "                'windows': [5, 10, 20, 30, 60], # rolling windows size\n",
    "                'include': ['ROC', 'MA', 'STD'], # rolling operator to use\n",
    "                #if include is None we will use default operators\n",
    "                'exclude': ['RANK'], # rolling operator not to use\n",
    "            }\n",
    "        }\n",
    "```\n",
    "其中参数data_handler_config相当于配置文件，字典类型，用来定义完整数据起止日期（start_time和end_time），拟合数据起止日期（fit_start_time和fit_end_time），股票池（instruments）等。\n",
    "\n",
    "拟合数据起止日期区间应为完整数据起止日期数据的子集。\n",
    "\n",
    "拟合数据日期（训练和验证集）和余下日期（测试集）在数据预处理的方式上有所不同，将在下章展开讨论。\n",
    "\n",
    "生成Alpha158因子调用qlib.contrib.data.handler模块下的Alpha158类，具体命令为：\n",
    "\n",
    "```python\n",
    "from qlib.contrib.data.handler import Alpha158\n",
    "h = Alpha158(**data_handler_config)\n",
    "```\n",
    "\n",
    "执行上述指令后，程序将计算从start_time至end_time的**当期因子值和下期收益**，分别作为后续**AI模型训练的特征和标签**。\n",
    "\n",
    "代码中使用了两个处理器，infer_processors用于模型预测，learn_processors用于模型训练。\n",
    "\n",
    "```python\n",
    "    infer_processors = check_transform_proc(infer_processors, fit_start_time, fit_end_time)\n",
    "    learn_processors = check_transform_proc(learn_processors, fit_start_time, fit_end_time)\n",
    "```"
   ],
   "metadata": {
    "collapsed": false
   },
   "id": "673b3e33ca4121dd"
  },
  {
   "cell_type": "code",
   "outputs": [
    {
     "name": "stderr",
     "output_type": "stream",
     "text": [
      "[19576:MainThread](2024-01-27 13:00:12,306) INFO - qlib.timer - [log.py:127] - Time cost: 125.072s | Loading data Done\n",
      "[19576:MainThread](2024-01-27 13:00:12,893) INFO - qlib.timer - [log.py:127] - Time cost: 0.201s | DropnaLabel Done\n",
      "G:\\ProgramData\\miniconda3\\envs\\qlibenv\\lib\\site-packages\\qlib\\data\\dataset\\processor.py:323: SettingWithCopyWarning: \n",
      "A value is trying to be set on a copy of a slice from a DataFrame.\n",
      "Try using .loc[row_indexer,col_indexer] = value instead\n",
      "\n",
      "See the caveats in the documentation: https://pandas.pydata.org/pandas-docs/stable/user_guide/indexing.html#returning-a-view-versus-a-copy\n",
      "  df[cols] = df[cols].groupby(\"datetime\", group_keys=False).apply(self.zscore_func)\n",
      "[19576:MainThread](2024-01-27 13:00:13,451) INFO - qlib.timer - [log.py:127] - Time cost: 0.557s | CSZScoreNorm Done\n",
      "[19576:MainThread](2024-01-27 13:00:13,478) INFO - qlib.timer - [log.py:127] - Time cost: 1.171s | fit & process data Done\n",
      "[19576:MainThread](2024-01-27 13:00:13,479) INFO - qlib.timer - [log.py:127] - Time cost: 126.246s | Init data Done\n"
     ]
    },
    {
     "name": "stdout",
     "output_type": "stream",
     "text": [
      "['KMID', 'KLEN', 'KMID2', 'KUP', 'KUP2', 'KLOW', 'KLOW2', 'KSFT', 'KSFT2', 'OPEN0', 'HIGH0', 'LOW0', 'VWAP0', 'ROC5', 'ROC10', 'ROC20', 'ROC30', 'ROC60', 'MA5', 'MA10', 'MA20', 'MA30', 'MA60', 'STD5', 'STD10', 'STD20', 'STD30', 'STD60', 'BETA5', 'BETA10', 'BETA20', 'BETA30', 'BETA60', 'RSQR5', 'RSQR10', 'RSQR20', 'RSQR30', 'RSQR60', 'RESI5', 'RESI10', 'RESI20', 'RESI30', 'RESI60', 'MAX5', 'MAX10', 'MAX20', 'MAX30', 'MAX60', 'MIN5', 'MIN10', 'MIN20', 'MIN30', 'MIN60', 'QTLU5', 'QTLU10', 'QTLU20', 'QTLU30', 'QTLU60', 'QTLD5', 'QTLD10', 'QTLD20', 'QTLD30', 'QTLD60', 'RANK5', 'RANK10', 'RANK20', 'RANK30', 'RANK60', 'RSV5', 'RSV10', 'RSV20', 'RSV30', 'RSV60', 'IMAX5', 'IMAX10', 'IMAX20', 'IMAX30', 'IMAX60', 'IMIN5', 'IMIN10', 'IMIN20', 'IMIN30', 'IMIN60', 'IMXD5', 'IMXD10', 'IMXD20', 'IMXD30', 'IMXD60', 'CORR5', 'CORR10', 'CORR20', 'CORR30', 'CORR60', 'CORD5', 'CORD10', 'CORD20', 'CORD30', 'CORD60', 'CNTP5', 'CNTP10', 'CNTP20', 'CNTP30', 'CNTP60', 'CNTN5', 'CNTN10', 'CNTN20', 'CNTN30', 'CNTN60', 'CNTD5', 'CNTD10', 'CNTD20', 'CNTD30', 'CNTD60', 'SUMP5', 'SUMP10', 'SUMP20', 'SUMP30', 'SUMP60', 'SUMN5', 'SUMN10', 'SUMN20', 'SUMN30', 'SUMN60', 'SUMD5', 'SUMD10', 'SUMD20', 'SUMD30', 'SUMD60', 'VMA5', 'VMA10', 'VMA20', 'VMA30', 'VMA60', 'VSTD5', 'VSTD10', 'VSTD20', 'VSTD30', 'VSTD60', 'WVMA5', 'WVMA10', 'WVMA20', 'WVMA30', 'WVMA60', 'VSUMP5', 'VSUMP10', 'VSUMP20', 'VSUMP30', 'VSUMP60', 'VSUMN5', 'VSUMN10', 'VSUMN20', 'VSUMN30', 'VSUMN60', 'VSUMD5', 'VSUMD10', 'VSUMD20', 'VSUMD30', 'VSUMD60', 'LABEL0']\n"
     ]
    }
   ],
   "source": [
    "from qlib.contrib.data.handler import Alpha158\n",
    "\n",
    "instruments = D.instruments(market='all')\n",
    "# 设置日期、股票池等参数\n",
    "data_handler_config = {\n",
    "    \"start_time\": \"2020-01-01\",\n",
    "    \"end_time\": \"2020-11-30\",\n",
    "    \"fit_start_time\": \"2020-01-01\",\n",
    "    \"fit_end_time\": \"2020-06-30\",\n",
    "    \"instruments\": instruments\n",
    "}\n",
    "h = Alpha158(**data_handler_config)\n",
    "# 获取列名(因子名称)\n",
    "print(h.get_cols())"
   ],
   "metadata": {
    "collapsed": false
   },
   "id": "c4e43f8f0753d4c9",
   "execution_count": 16
  },
  {
   "cell_type": "markdown",
   "source": [
    "其中因子对应的算子计算公式在handler.py中可以看到：\n",
    "\n",
    "\"G:\\ProgramData\\miniconda3\\envs\\qlibenv\\Lib\\site-packages\\qlib\\contrib\\data\\handler.py\""
   ],
   "metadata": {
    "collapsed": false
   },
   "id": "62c577a91b930c21"
  },
  {
   "cell_type": "code",
   "outputs": [
    {
     "name": "stdout",
     "output_type": "stream",
     "text": [
      "                         LABEL0\n",
      "datetime   instrument          \n",
      "2020-01-02 SH000300   -0.003778\n",
      "           SH000903   -0.006925\n",
      "           SH000905    0.010076\n",
      "           SH600000   -0.011111\n",
      "           SH600004   -0.017261\n",
      "...                         ...\n",
      "2020-09-25 SZ300890         NaN\n",
      "           SZ300891         NaN\n",
      "           SZ300892         NaN\n",
      "           SZ300893         NaN\n",
      "           SZ300895         NaN\n",
      "\n",
      "[676964 rows x 1 columns]\n"
     ]
    }
   ],
   "source": [
    "# 通过下面代码获取标签：\n",
    "#获取T日每只股票的标签数据（收益，及涨幅）\n",
    "Alpha158_df_label = h.fetch(col_set=\"label\")\n",
    "print(Alpha158_df_label)\n",
    "# 默认参数下，股票t日的标签对应t+2日收盘价相对于t+1日收盘价的涨跌幅，相当于t日收盘后发信号，t+1日收盘时刻开仓，t+2日收盘时刻平仓。\n",
    "# 如下，2020年1月2日沪深300的标签值为-0.003778，对应2020年1月6日该股票涨跌幅为-0.3778%（2020年1月4~5日非交易日）。"
   ],
   "metadata": {
    "collapsed": false
   },
   "id": "c7f517f449b55d44",
   "execution_count": 17
  },
  {
   "cell_type": "code",
   "outputs": [
    {
     "name": "stdout",
     "output_type": "stream",
     "text": [
      "                           KMID      KLEN     KMID2       KUP      KUP2  \\\n",
      "datetime   instrument                                                     \n",
      "2020-01-02 SH000300    0.007495  0.012450  0.602024  0.004955  0.397976   \n",
      "           SH000903    0.006225  0.011553  0.538800  0.005328  0.461200   \n",
      "           SH000905    0.011207  0.016346  0.685605  0.001653  0.101117   \n",
      "           SH600000    0.000000  0.015237  0.000000  0.013633  0.894736   \n",
      "           SH600004   -0.002278  0.012529 -0.181813  0.003417  0.272729   \n",
      "...                         ...       ...       ...       ...       ...   \n",
      "2020-09-25 SZ300890   -0.058000  0.085636 -0.677282  0.027273  0.318471   \n",
      "           SZ300891   -0.044214  0.074236 -0.595587  0.028930  0.389707   \n",
      "           SZ300892   -0.110807  0.148837 -0.744485  0.038030  0.255515   \n",
      "           SZ300893    0.032195  0.245854  0.130953  0.153659  0.625000   \n",
      "           SZ300895   -0.104925  0.152836 -0.686523  0.040896  0.267578   \n",
      "\n",
      "                           KLOW     KLOW2      KSFT     KSFT2     OPEN0  ...  \\\n",
      "datetime   instrument                                                    ...   \n",
      "2020-01-02 SH000300    0.000000  0.000000  0.002540  0.204048  0.992561  ...   \n",
      "           SH000903    0.000000  0.000000  0.000897  0.077601  0.993814  ...   \n",
      "           SH000905    0.003486  0.213278  0.013040  0.797766  0.988918  ...   \n",
      "           SH600000    0.001604  0.105264 -0.012029 -0.789472  1.000000  ...   \n",
      "           SH600004    0.006834  0.545458  0.001139  0.090916  1.002283  ...   \n",
      "...                         ...       ...       ...       ...       ...  ...   \n",
      "2020-09-25 SZ300890    0.000364  0.004247 -0.084909 -0.991506  1.061571  ...   \n",
      "           SZ300891    0.001092  0.014707 -0.072052 -0.970587  1.046259  ...   \n",
      "           SZ300892    0.000000  0.000000 -0.148837 -1.000000  1.124615  ...   \n",
      "           SZ300893    0.060000  0.244048 -0.061463 -0.250000  0.968809  ...   \n",
      "           SZ300895    0.007015  0.045898 -0.138806 -0.908203  1.117225  ...   \n",
      "\n",
      "                         VSUMN5   VSUMN10   VSUMN20   VSUMN30   VSUMN60  \\\n",
      "datetime   instrument                                                     \n",
      "2020-01-02 SH000300    0.214344  0.429708  0.388513  0.408878  0.439867   \n",
      "           SH000903    0.233135  0.410738  0.410221  0.416297  0.451719   \n",
      "           SH000905    0.237803  0.447455  0.357776  0.407642  0.436652   \n",
      "           SH600000    0.162038  0.422264  0.444087  0.480478  0.494527   \n",
      "           SH600004    0.000000  0.365170  0.463112  0.498544  0.491698   \n",
      "...                         ...       ...       ...       ...       ...   \n",
      "2020-09-25 SZ300890    1.000000  1.000000  1.000000  1.000000  1.000000   \n",
      "           SZ300891    0.894568  0.926990  0.926990  0.926990  0.926990   \n",
      "           SZ300892    1.000000  1.000000  1.000000  1.000000  1.000000   \n",
      "           SZ300893    1.000000  1.000000  1.000000  1.000000  1.000000   \n",
      "           SZ300895    1.000000  1.000000  1.000000  1.000000  1.000000   \n",
      "\n",
      "                         VSUMD5   VSUMD10   VSUMD20   VSUMD30   VSUMD60  \n",
      "datetime   instrument                                                    \n",
      "2020-01-02 SH000300    0.571312  0.140584  0.222973  0.182244  0.120267  \n",
      "           SH000903    0.533731  0.178524  0.179558  0.167407  0.096561  \n",
      "           SH000905    0.524393  0.105090  0.284448  0.184716  0.126696  \n",
      "           SH600000    0.675923  0.155473  0.111826  0.039044  0.010946  \n",
      "           SH600004    1.000000  0.269660  0.073775  0.002912  0.016604  \n",
      "...                         ...       ...       ...       ...       ...  \n",
      "2020-09-25 SZ300890   -1.000000 -1.000000 -1.000000 -1.000000 -1.000000  \n",
      "           SZ300891   -0.789137 -0.853981 -0.853981 -0.853981 -0.853981  \n",
      "           SZ300892   -1.000000 -1.000000 -1.000000 -1.000000 -1.000000  \n",
      "           SZ300893   -1.000000 -1.000000 -1.000000 -1.000000 -1.000000  \n",
      "           SZ300895   -1.000000 -1.000000 -1.000000 -1.000000 -1.000000  \n",
      "\n",
      "[676964 rows x 158 columns]\n"
     ]
    }
   ],
   "source": [
    "# 通过下面代码可获取T日的特征（因子）值。\n",
    "# 获取T日每只股票的特征(因子值)值\n",
    "Alpha158_df_feature = h.fetch(col_set=\"feature\")\n",
    "print(Alpha158_df_feature)\n",
    "# 默认参数下，股票t日的特征对应t日收盘后计算出的因子值。"
   ],
   "metadata": {
    "collapsed": false
   },
   "id": "edb64dd0e0da4009",
   "execution_count": 18
  },
  {
   "cell_type": "markdown",
   "source": [],
   "metadata": {
    "collapsed": false
   },
   "id": "85fd9ee906255579"
  },
  {
   "cell_type": "markdown",
   "source": [
    "4.4模型\n",
    "直接以qlib/examples/workflow_by_code.py这个例子来看。\n",
    "\n",
    "1、数据准备"
   ],
   "metadata": {
    "collapsed": false
   },
   "id": "29ff972371d2ca7f"
  },
  {
   "cell_type": "code",
   "outputs": [
    {
     "name": "stderr",
     "output_type": "stream",
     "text": [
      "[19560:MainThread](2024-01-28 10:30:34,259) INFO - qlib.Initialization - [config.py:416] - default_conf: client.\n",
      "[19560:MainThread](2024-01-28 10:30:34,264) INFO - qlib.Initialization - [__init__.py:74] - qlib successfully initialized based on client settings.\n",
      "[19560:MainThread](2024-01-28 10:30:34,265) INFO - qlib.Initialization - [__init__.py:76] - data_path={'__DEFAULT_FREQ': WindowsPath('H:/data/qlib/qlib_data/cn_data')}\n"
     ]
    }
   ],
   "source": [
    "import qlib\n",
    "from qlib.constant import REG_CN\n",
    "from qlib.utils import init_instance_by_config\n",
    "from qlib.workflow import R\n",
    "from qlib.utils import flatten_dict\n",
    "from qlib.workflow.record_temp import SignalRecord, PortAnaRecord\n",
    "from qlib.tests.config import CSI300_BENCH\n",
    "\n",
    "#1.初始化并获取日历\n",
    "data_uri = 'E:/data/qlib/qlib_data/cn_data'\n",
    "qlib.init(provider_uri=data_uri, region=REG_CN)\n",
    "market = \"csi300\"\n",
    "benchmark = \"SH000300\""
   ],
   "metadata": {
    "collapsed": false
   },
   "id": "452c388f37122170",
   "execution_count": 2
  },
  {
   "cell_type": "markdown",
   "source": [
    "模型训练\n",
    "\n",
    "模型训练过程主要包括：数据集和模型参数初始化->初始模型和数据集实例->model.fit(dataset)->\n",
    "\n",
    "参数说明\n",
    "\n",
    "Model（模型）-参数及说明：\n",
    "```\n",
    " \"model\": {\n",
    " \"class\": \"LGBModel\", #模型名称，本代码使用的是LGBmodel\n",
    " \"module_path\": \"qlib.contrib.model.gbdt\",#AI模型所在路径\n",
    " \"kwargs\": {#LGBmodel的超参\n",
    " \"loss\": \"mse\",#损失函数，此处设置为均方误差\n",
    " \"colsample_bytree\": 0.8879,#列采样比列\n",
    " \"learning_rate\": 0.0421,#学习率\n",
    " \"subsample\": 0.8789,#行采样比例\n",
    " \"lambda_l1\": 205.6999,#L1正则化惩罚系数\n",
    " \"lambda_l2\": 580.9768,#L2正则化惩罚系数\n",
    " \"max_depth\": 8,#最大树深\n",
    " \"num_leaves\": 210,#最大叶子节点数\n",
    " \"num_threads\": 20,#最大并行线程数\n",
    "        },\n",
    "Dataset（数据集）-参数及说明\n",
    "dataset\": {\n",
    " \"class\": \"DatasetH\", #数据集名称\n",
    " \"module_path\": \"qlib.data.dataset\", #数据集所在路径\n",
    " \"kwargs\": {#DatasetH模型参数\n",
    " \"handler\": {#因子库参数\n",
    " \"class\": \"Alpha158\",#因子库名称，此处使用qlib自带的Alpha158\n",
    " \"module_path\": \"qlib.contrib.data.handler\",#因子库路径\n",
    " \"kwargs\": data_handler_config, #Alpha158的参数\n",
    "            },\n",
    " \"segments\": {#时间区间划分参数\n",
    " \"train\": (\"2008-01-01\", \"2014-12-31\"),#训练集\n",
    " \"valid\": (\"2015-01-01\", \"2016-12-31\"),#验证集\n",
    " \"test\": (\"2017-01-01\", \"2020-08-01\"),#测试集\n",
    "            },\n",
    "        },\n",
    "    },\n",
    "```\n",
    "\n",
    "其中data_handler_config参数：\n",
    "```\n",
    "data_handler_config = {\n",
    " \"start_time\": \"2008-01-01\",\n",
    " \"end_time\": \"2020-08-01\",\n",
    " \"fit_start_time\": \"2008-01-01\",\n",
    " \"fit_end_time\": \"2014-12-31\",\n",
    " \"instruments\": market,\n",
    "}\n",
    "```\n",
    "1）代码"
   ],
   "metadata": {
    "collapsed": false
   },
   "id": "b704855f9ceb1d26"
  },
  {
   "cell_type": "code",
   "outputs": [
    {
     "name": "stdout",
     "output_type": "stream",
     "text": [
      "ModuleNotFoundError. CatBoostModel are skipped. (optional: maybe installing CatBoostModel can fix it.)\n",
      "ModuleNotFoundError. XGBModel is skipped(optional: maybe installing xgboost can fix it).\n",
      "ModuleNotFoundError.  PyTorch models are skipped (optional: maybe installing pytorch can fix it).\n"
     ]
    },
    {
     "name": "stderr",
     "output_type": "stream",
     "text": [
      "[19560:MainThread](2024-01-28 10:31:34,770) INFO - qlib.timer - [log.py:127] - Time cost: 60.136s | Loading data Done\n",
      "[19560:MainThread](2024-01-28 10:31:35,623) INFO - qlib.timer - [log.py:127] - Time cost: 0.298s | DropnaLabel Done\n",
      "G:\\ProgramData\\miniconda3\\envs\\qlibenv\\lib\\site-packages\\qlib\\data\\dataset\\processor.py:323: SettingWithCopyWarning: \n",
      "A value is trying to be set on a copy of a slice from a DataFrame.\n",
      "Try using .loc[row_indexer,col_indexer] = value instead\n",
      "\n",
      "See the caveats in the documentation: https://pandas.pydata.org/pandas-docs/stable/user_guide/indexing.html#returning-a-view-versus-a-copy\n",
      "  df[cols] = df[cols].groupby(\"datetime\", group_keys=False).apply(self.zscore_func)\n",
      "[19560:MainThread](2024-01-28 10:31:39,567) INFO - qlib.timer - [log.py:127] - Time cost: 3.942s | CSZScoreNorm Done\n",
      "[19560:MainThread](2024-01-28 10:31:39,634) INFO - qlib.timer - [log.py:127] - Time cost: 4.861s | fit & process data Done\n",
      "[19560:MainThread](2024-01-28 10:31:39,635) INFO - qlib.timer - [log.py:127] - Time cost: 65.001s | Init data Done\n",
      "[19560:MainThread](2024-01-28 10:31:39,639) INFO - qlib.workflow - [exp.py:258] - Experiment 1 starts running ...\n",
      "[19560:MainThread](2024-01-28 10:31:39,864) INFO - qlib.workflow - [recorder.py:341] - Recorder 6b929b293f0948638b63bd587ffff396 starts running under Experiment 1 ...\n"
     ]
    },
    {
     "name": "stdout",
     "output_type": "stream",
     "text": [
      "Training until validation scores don't improve for 50 rounds\n",
      "[20]\ttrain's l2: 0.990585\tvalid's l2: 0.994309\n",
      "[40]\ttrain's l2: 0.986931\tvalid's l2: 0.993693\n",
      "[60]\ttrain's l2: 0.984352\tvalid's l2: 0.99349\n",
      "[80]\ttrain's l2: 0.982319\tvalid's l2: 0.993382\n",
      "[100]\ttrain's l2: 0.980442\tvalid's l2: 0.99331\n",
      "[120]\ttrain's l2: 0.97871\tvalid's l2: 0.993247\n",
      "[140]\ttrain's l2: 0.976987\tvalid's l2: 0.993334\n",
      "[160]\ttrain's l2: 0.97536\tvalid's l2: 0.993338\n",
      "Early stopping, best iteration is:\n",
      "[122]\ttrain's l2: 0.978519\tvalid's l2: 0.993238\n"
     ]
    },
    {
     "name": "stderr",
     "output_type": "stream",
     "text": [
      "[19560:MainThread](2024-01-28 10:32:03,116) INFO - qlib.timer - [log.py:127] - Time cost: 0.725s | waiting `async_log` Done\n"
     ]
    }
   ],
   "source": [
    "###################################\n",
    "# train model\n",
    "###################################\n",
    "data_handler_config = {\n",
    "    \"start_time\": \"2008-01-01\",\n",
    "    \"end_time\": \"2020-08-01\",\n",
    "    \"fit_start_time\": \"2008-01-01\",\n",
    "    \"fit_end_time\": \"2014-12-31\",\n",
    "    \"instruments\": market,\n",
    "}\n",
    "task = {\n",
    "    \"model\": {\n",
    "        \"class\": \"LGBModel\",\n",
    "        \"module_path\": \"qlib.contrib.model.gbdt\",\n",
    "        \"kwargs\": {\n",
    "            \"loss\": \"mse\",\n",
    "            \"colsample_bytree\": 0.8879,\n",
    "            \"learning_rate\": 0.0421,\n",
    "            \"subsample\": 0.8789,\n",
    "            \"lambda_l1\": 205.6999,\n",
    "            \"lambda_l2\": 580.9768,\n",
    "            \"max_depth\": 8,\n",
    "            \"num_leaves\": 210,\n",
    "            \"num_threads\": 20,\n",
    "        },\n",
    "    },\n",
    "    \"dataset\": {\n",
    "        \"class\": \"DatasetH\",\n",
    "        \"module_path\": \"qlib.data.dataset\",\n",
    "        \"kwargs\": {\n",
    "            \"handler\": {\n",
    "                \"class\": \"Alpha158\",\n",
    "                \"module_path\": \"qlib.contrib.data.handler\",\n",
    "                \"kwargs\": data_handler_config,\n",
    "            },\n",
    "            \"segments\": {\n",
    "                \"train\": (\"2008-01-01\", \"2014-12-31\"),\n",
    "                \"valid\": (\"2015-01-01\", \"2016-12-31\"),\n",
    "                \"test\": (\"2017-01-01\", \"2020-08-01\"),\n",
    "            },\n",
    "        },\n",
    "    },\n",
    "}\n",
    "# model initiaiton\n",
    "model = init_instance_by_config(task[\"model\"])  #\n",
    "dataset = init_instance_by_config(task[\"dataset\"])\n",
    "# start exp to train model\n",
    "with R.start(experiment_name=\"train_model\"):\n",
    "    R.log_params(**flatten_dict(task))  # 记录参数\n",
    "    model.fit(dataset)  #拟合模型\n",
    "    R.save_objects(trained_model=model)  #保存模型\n",
    "    rid = R.get_recorder().id  #获取记录器id"
   ],
   "metadata": {
    "collapsed": false
   },
   "id": "e9c081335948af40",
   "execution_count": 3
  },
  {
   "cell_type": "markdown",
   "source": [
    "模型按设置的参数进行训练直到验证分数50轮内没有提高，在所有训练结果中，最好的训练参数值是：0.978519，最好的验证参数值是：0.993238\n",
    "\n",
    "4.6策略\n",
    "策略思路：TopkDropout策略：\n",
    "\n",
    "每日等权持有topk=50只股票，同时每日卖出持仓股票中最新预测收益最低的n_drop=5只股票，买入未持仓股票中最新预测收益最高的n_drop=5只股票。\n",
    "\n",
    "策略参数如下：\n",
    "```\n",
    " \"strategy\": {\n",
    " \"class\": \"TopkDropoutStrategy\", #策略名称\n",
    " \"module_path\": \"qlib.contrib.strategy.signal_strategy\", #策略所在路径\n",
    " \"kwargs\": { #TopkDropout 策略参数\n",
    " \"model\": model,#模型\n",
    " \"dataset\": dataset,#数据集\n",
    " \"topk\": 50,#每日持仓股票\n",
    " \"n_drop\": 5,#每日换仓股票\n",
    "        },\n",
    "```\n",
    "4.6回测\n",
    "回测参数设置如下：\n",
    "```\n",
    " \"backtest\": {#回测参数\n",
    " \"start_time\": \"2017-01-01\",#回测开始时间\n",
    " \"end_time\": \"2020-08-01\",#回测结束时间\n",
    " \"account\": 100000000,#起始资金\n",
    " \"benchmark\": benchmark,#业绩比较基准\n",
    " \"exchange_kwargs\": {#交易参数\n",
    " \"freq\": \"day\",#日频\n",
    " \"limit_threshold\": 0.095,#涨跌停限制\n",
    " \"deal_price\": \"close\",#成交价格，按收盘价\n",
    " \"open_cost\": 0.0005,#开仓交易费率，万5佣金\n",
    " \"close_cost\": 0.0015,#平仓交易费率，千1印花税+万5佣金\n",
    " \"min_cost\": 5,#最低交易费用5元\n",
    "        },\n",
    "    },\n",
    "```\n",
    "调用qlib.workflow模块正式进行回测，依次执行如下命令：\n",
    "\n",
    "获取上步模型训练值记录，并通过load_object读取：\n",
    "```python\n",
    "recorder = R.get_recorder(recorder_id=rid, experiment_name=\"train_model\")\n",
    "model = recorder.load_object(\"trained_model\")\n",
    "```\n",
    "使用SignalRecord，针对测试集数据，使用训练完的模型生成预测值；\n",
    "```python\n",
    "# 使用SignalRecord，针对测试集数据，使用训练完的模型生成预测值；\n",
    "# prediction\n",
    "recorder = R.get_recorder()\n",
    "ba_rid = recorder.id\n",
    "sr = SignalRecord(model, dataset, recorder)\n",
    "sr.generate()\n",
    "```"
   ],
   "metadata": {
    "collapsed": false
   },
   "id": "b26227755e3aca76"
  },
  {
   "cell_type": "code",
   "outputs": [
    {
     "name": "stderr",
     "output_type": "stream",
     "text": [
      "[19560:MainThread](2024-01-28 10:34:08,794) INFO - qlib.workflow - [exp.py:258] - Experiment 1 starts running ...\n",
      "[19560:MainThread](2024-01-28 10:34:08,856) INFO - qlib.workflow - [recorder.py:341] - Recorder dad9671b8cf542a3806729bf4fd07a3d starts running under Experiment 1 ...\n"
     ]
    },
    {
     "name": "stdout",
     "output_type": "stream",
     "text": [
      "Training until validation scores don't improve for 50 rounds\n",
      "[20]\ttrain's l2: 0.990585\tvalid's l2: 0.994309\n",
      "[40]\ttrain's l2: 0.986931\tvalid's l2: 0.993693\n",
      "[60]\ttrain's l2: 0.984352\tvalid's l2: 0.99349\n",
      "[80]\ttrain's l2: 0.982319\tvalid's l2: 0.993382\n",
      "[100]\ttrain's l2: 0.980442\tvalid's l2: 0.99331\n",
      "[120]\ttrain's l2: 0.97871\tvalid's l2: 0.993247\n",
      "[140]\ttrain's l2: 0.976987\tvalid's l2: 0.993334\n",
      "[160]\ttrain's l2: 0.97536\tvalid's l2: 0.993338\n",
      "Early stopping, best iteration is:\n",
      "[122]\ttrain's l2: 0.978519\tvalid's l2: 0.993238\n"
     ]
    },
    {
     "name": "stderr",
     "output_type": "stream",
     "text": [
      "[19560:MainThread](2024-01-28 10:34:31,125) INFO - qlib.workflow - [record_temp.py:195] - Signal record 'pred.pkl' has been saved as the artifact of the Experiment 1\n",
      "[19560:MainThread](2024-01-28 10:34:31,276) INFO - qlib.timer - [log.py:127] - Time cost: 0.101s | waiting `async_log` Done\n"
     ]
    },
    {
     "name": "stdout",
     "output_type": "stream",
     "text": [
      "'The following are prediction results of the LGBModel model.'\n",
      "                          score\n",
      "datetime   instrument          \n",
      "2017-01-03 SH600000   -0.042865\n",
      "           SH600008    0.005925\n",
      "           SH600009    0.030596\n",
      "           SH600010   -0.013973\n",
      "           SH600015   -0.141758\n"
     ]
    }
   ],
   "source": [
    "with R.start(experiment_name=\"train_model\"):\n",
    "    R.log_params(**flatten_dict(task))  # 记录参数\n",
    "    model.fit(dataset)  #拟合模型\n",
    "    R.save_objects(trained_model=model)  #保存模型\n",
    "    rid = R.get_recorder().id  #获取记录器id\n",
    "    recorder = R.get_recorder(recorder_id=rid, experiment_name=\"train_model\")\n",
    "    model = recorder.load_object(\"trained_model\")\n",
    "    # 使用SignalRecord，针对测试集数据，使用训练完的模型生成预测值；\n",
    "    # prediction\n",
    "    recorder = R.get_recorder()\n",
    "    ba_rid = recorder.id\n",
    "    sr = SignalRecord(model, dataset, recorder)\n",
    "    sr.generate()"
   ],
   "metadata": {
    "collapsed": false
   },
   "id": "dc61ba5a4ffb40d1",
   "execution_count": 7
  },
  {
   "cell_type": "code",
   "outputs": [
    {
     "name": "stderr",
     "output_type": "stream",
     "text": [
      "[19560:MainThread](2024-01-28 10:35:33,758) INFO - qlib.backtest caller - [__init__.py:93] - Create new exchange\n",
      "[19560:MainThread](2024-01-28 10:36:06,981) WARNING - qlib.online operator - [exchange.py:219] - $close field data contains nan.\n",
      "[19560:MainThread](2024-01-28 10:36:06,985) WARNING - qlib.online operator - [exchange.py:219] - $close field data contains nan.\n",
      "[19560:MainThread](2024-01-28 10:36:07,002) WARNING - qlib.online operator - [exchange.py:226] - factor.day.bin file not exists or factor contains `nan`. Order using adjusted_price.\n",
      "[19560:MainThread](2024-01-28 10:36:07,003) WARNING - qlib.online operator - [exchange.py:228] - trade unit 100 is not supported in adjusted_price mode.\n",
      "[19560:MainThread](2024-01-28 10:36:11,827) WARNING - qlib.data - [data.py:666] - load calendar error: freq=day, future=True; return current calendar!\n",
      "[19560:MainThread](2024-01-28 10:36:11,829) WARNING - qlib.data - [data.py:669] - You can get future calendar by referring to the following document: https://github.com/microsoft/qlib/blob/main/scripts/data_collector/contrib/README.md\n",
      "[19560:MainThread](2024-01-28 10:36:11,859) WARNING - qlib.BaseExecutor - [executor.py:121] - `common_infra` is not set for <qlib.backtest.executor.SimulatorExecutor object at 0x00000139564EFAF0>\n"
     ]
    },
    {
     "data": {
      "text/plain": "backtest loop:   0%|          | 0/871 [00:00<?, ?it/s]",
      "application/vnd.jupyter.widget-view+json": {
       "version_major": 2,
       "version_minor": 0,
       "model_id": "ecb764d5f3cf46b79d6d831f82d0169a"
      }
     },
     "metadata": {},
     "output_type": "display_data"
    },
    {
     "name": "stderr",
     "output_type": "stream",
     "text": [
      "G:\\ProgramData\\miniconda3\\envs\\qlibenv\\lib\\site-packages\\qlib\\utils\\index_data.py:481: RuntimeWarning: Mean of empty slice\n",
      "  return np.nanmean(self.data)\n",
      "G:\\ProgramData\\miniconda3\\envs\\qlibenv\\lib\\site-packages\\qlib\\utils\\index_data.py:481: RuntimeWarning: Mean of empty slice\n",
      "  return np.nanmean(self.data)\n",
      "G:\\ProgramData\\miniconda3\\envs\\qlibenv\\lib\\site-packages\\qlib\\utils\\index_data.py:481: RuntimeWarning: Mean of empty slice\n",
      "  return np.nanmean(self.data)\n",
      "[19560:MainThread](2024-01-28 10:36:26,837) INFO - qlib.workflow - [record_temp.py:504] - Portfolio analysis record 'port_analysis_1day.pkl' has been saved as the artifact of the Experiment 1\n",
      "[19560:MainThread](2024-01-28 10:36:26,854) INFO - qlib.workflow - [record_temp.py:529] - Indicator analysis record 'indicator_analysis_1day.pkl' has been saved as the artifact of the Experiment 1\n"
     ]
    },
    {
     "name": "stdout",
     "output_type": "stream",
     "text": [
      "'The following are analysis results of benchmark return(1day).'\n",
      "                       risk\n",
      "mean               0.000477\n",
      "std                0.012295\n",
      "annualized_return  0.113561\n",
      "information_ratio  0.598699\n",
      "max_drawdown      -0.370479\n",
      "'The following are analysis results of the excess return without cost(1day).'\n",
      "                       risk\n",
      "mean               0.000748\n",
      "std                0.005687\n",
      "annualized_return  0.178088\n",
      "information_ratio  2.029781\n",
      "max_drawdown      -0.057265\n",
      "'The following are analysis results of the excess return with cost(1day).'\n",
      "                       risk\n",
      "mean               0.000553\n",
      "std                0.005685\n",
      "annualized_return  0.131583\n",
      "information_ratio  1.500251\n",
      "max_drawdown      -0.066180\n",
      "'The following are analysis results of indicators(1day).'\n",
      "     value\n",
      "ffr    1.0\n",
      "pa     0.0\n",
      "pos    0.0\n"
     ]
    }
   ],
   "source": [
    "# backtest & analysis\n",
    "port_analysis_config = {\n",
    "    \"executor\": {\n",
    "        \"class\": \"SimulatorExecutor\",\n",
    "        \"module_path\": \"qlib.backtest.executor\",\n",
    "        \"kwargs\": {\n",
    "            \"time_per_step\": \"day\",\n",
    "            \"generate_portfolio_metrics\": True,\n",
    "        },\n",
    "    },\n",
    "    \"strategy\": {\n",
    "        \"class\": \"TopkDropoutStrategy\",\n",
    "        \"module_path\": \"qlib.contrib.strategy.signal_strategy\",\n",
    "        \"kwargs\": {\n",
    "            \"signal\": (model, dataset),\n",
    "            \"topk\": 50,\n",
    "            \"n_drop\": 5,\n",
    "        },\n",
    "    },\n",
    "    \"backtest\": {\n",
    "        \"start_time\": \"2017-01-01\",\n",
    "        \"end_time\": \"2020-08-01\",\n",
    "        \"account\": 100000000,\n",
    "        \"benchmark\": CSI300_BENCH,\n",
    "        \"exchange_kwargs\": {\n",
    "            \"freq\": \"day\",\n",
    "            \"limit_threshold\": 0.095,\n",
    "            \"deal_price\": \"close\",\n",
    "            \"open_cost\": 0.0005,\n",
    "            \"close_cost\": 0.0015,\n",
    "            \"min_cost\": 5,\n",
    "        },\n",
    "    },\n",
    "}\n",
    "par = PortAnaRecord(recorder, port_analysis_config, \"day\")\n",
    "par.generate()"
   ],
   "metadata": {
    "collapsed": false
   },
   "id": "1cbf1c69dca9b01b",
   "execution_count": 9
  },
  {
   "cell_type": "markdown",
   "source": [
    "4.7分析\n",
    "前面的回测结果都以pkl文件格式存储的，所以先加载相关回测结果文件\n",
    "```python\n",
    "from qlib.contrib.report import analysis_model, analysis_position\n",
    "from qlib.data import D\n",
    "recorder = R.get_recorder(recorder_id=ba_rid, experiment_name=\"backtest_analysis\")\n",
    "print(recorder)\n",
    "pred_df = recorder.load_object(\"pred.pkl\")\n",
    "report_normal_df = recorder.load_object(\"portfolio_analysis/report_normal_1day.pkl\")\n",
    "positions = recorder.load_object(\"portfolio_analysis/positions_normal_1day.pkl\")\n",
    "analysis_df = recorder.load_object(\"portfolio_analysis/port_analysis_1day.pkl\")\n",
    "```\n",
    "AnalysisPosition持仓分析，分report和 risk analysis两部分。\n",
    "```python\n",
    "analysis_position.report_graph(report_normal_df)\n",
    "analysis_position.risk_analysis_graph(analysis_df, report_normal_df)\n",
    "Analysismode\n",
    "label_df = dataset.prepare(\"test\", col_set=\"label\")\n",
    "label_df.columns = [\"label\"]\n",
    "```\n",
    "IC值：\n",
    "\n",
    "```python\n",
    "pred_label = pd.concat([label_df, pred_df], axis=1, sort=True).reindex(label_df.index)\n",
    "analysis_position.score_ic_graph(pred_label)\n",
    "Model performance\n",
    "analysis_model.model_performance_graph(pred_label)\n",
    "```"
   ],
   "metadata": {
    "collapsed": false
   },
   "id": "7e26ee82f703c496"
  },
  {
   "cell_type": "code",
   "outputs": [
    {
     "name": "stderr",
     "output_type": "stream",
     "text": [
      "[19560:MainThread](2024-01-28 10:41:26,757) INFO - qlib.workflow - [exp.py:258] - Experiment 1 starts running ...\n",
      "[19560:MainThread](2024-01-28 10:41:26,801) INFO - qlib.workflow - [recorder.py:341] - Recorder 13f335c60c86445bb7aac2891ebe71d7 starts running under Experiment 1 ...\n"
     ]
    },
    {
     "name": "stdout",
     "output_type": "stream",
     "text": [
      "Training until validation scores don't improve for 50 rounds\n",
      "[20]\ttrain's l2: 0.990585\tvalid's l2: 0.994309\n",
      "[40]\ttrain's l2: 0.986931\tvalid's l2: 0.993693\n",
      "[60]\ttrain's l2: 0.984352\tvalid's l2: 0.99349\n",
      "[80]\ttrain's l2: 0.982319\tvalid's l2: 0.993382\n",
      "[100]\ttrain's l2: 0.980442\tvalid's l2: 0.99331\n",
      "[120]\ttrain's l2: 0.97871\tvalid's l2: 0.993247\n",
      "[140]\ttrain's l2: 0.976987\tvalid's l2: 0.993334\n",
      "[160]\ttrain's l2: 0.97536\tvalid's l2: 0.993338\n",
      "Early stopping, best iteration is:\n",
      "[122]\ttrain's l2: 0.978519\tvalid's l2: 0.993238\n"
     ]
    },
    {
     "name": "stderr",
     "output_type": "stream",
     "text": [
      "[19560:MainThread](2024-01-28 10:41:50,503) INFO - qlib.workflow - [record_temp.py:195] - Signal record 'pred.pkl' has been saved as the artifact of the Experiment 1\n"
     ]
    },
    {
     "name": "stdout",
     "output_type": "stream",
     "text": [
      "'The following are prediction results of the LGBModel model.'\n",
      "                          score\n",
      "datetime   instrument          \n",
      "2017-01-03 SH600000   -0.042865\n",
      "           SH600008    0.005925\n",
      "           SH600009    0.030596\n",
      "           SH600010   -0.013973\n",
      "           SH600015   -0.141758\n"
     ]
    },
    {
     "name": "stderr",
     "output_type": "stream",
     "text": [
      "[19560:MainThread](2024-01-28 10:41:50,995) INFO - qlib.timer - [log.py:127] - Time cost: 0.449s | waiting `async_log` Done\n"
     ]
    },
    {
     "ename": "ValueError",
     "evalue": "No valid experiment has been found, please make sure the input experiment name is correct.",
     "output_type": "error",
     "traceback": [
      "\u001B[1;31m---------------------------------------------------------------------------\u001B[0m",
      "\u001B[1;31mMlflowException\u001B[0m                           Traceback (most recent call last)",
      "File \u001B[1;32mG:\\ProgramData\\miniconda3\\envs\\qlibenv\\lib\\site-packages\\qlib\\workflow\\expm.py:390\u001B[0m, in \u001B[0;36mMLflowExpManager._get_exp\u001B[1;34m(self, experiment_id, experiment_name)\u001B[0m\n\u001B[0;32m    389\u001B[0m \u001B[38;5;28;01mif\u001B[39;00m exp \u001B[38;5;129;01mis\u001B[39;00m \u001B[38;5;28;01mNone\u001B[39;00m \u001B[38;5;129;01mor\u001B[39;00m exp\u001B[38;5;241m.\u001B[39mlifecycle_stage\u001B[38;5;241m.\u001B[39mupper() \u001B[38;5;241m==\u001B[39m \u001B[38;5;124m\"\u001B[39m\u001B[38;5;124mDELETED\u001B[39m\u001B[38;5;124m\"\u001B[39m:\n\u001B[1;32m--> 390\u001B[0m     \u001B[38;5;28;01mraise\u001B[39;00m MlflowException(\u001B[38;5;124m\"\u001B[39m\u001B[38;5;124mNo valid experiment has been found.\u001B[39m\u001B[38;5;124m\"\u001B[39m)\n\u001B[0;32m    391\u001B[0m experiment \u001B[38;5;241m=\u001B[39m MLflowExperiment(exp\u001B[38;5;241m.\u001B[39mexperiment_id, experiment_name, \u001B[38;5;28mself\u001B[39m\u001B[38;5;241m.\u001B[39muri)\n",
      "\u001B[1;31mMlflowException\u001B[0m: No valid experiment has been found.",
      "\nThe above exception was the direct cause of the following exception:\n",
      "\u001B[1;31mValueError\u001B[0m                                Traceback (most recent call last)",
      "Cell \u001B[1;32mIn[11], line 18\u001B[0m\n\u001B[0;32m     15\u001B[0m sr\u001B[38;5;241m.\u001B[39mgenerate()\n\u001B[0;32m     16\u001B[0m \u001B[38;5;28;01mfrom\u001B[39;00m \u001B[38;5;21;01mqlib\u001B[39;00m\u001B[38;5;21;01m.\u001B[39;00m\u001B[38;5;21;01mcontrib\u001B[39;00m\u001B[38;5;21;01m.\u001B[39;00m\u001B[38;5;21;01mreport\u001B[39;00m \u001B[38;5;28;01mimport\u001B[39;00m analysis_model, analysis_position\n\u001B[1;32m---> 18\u001B[0m recorder \u001B[38;5;241m=\u001B[39m \u001B[43mR\u001B[49m\u001B[38;5;241;43m.\u001B[39;49m\u001B[43mget_recorder\u001B[49m\u001B[43m(\u001B[49m\u001B[43mrecorder_id\u001B[49m\u001B[38;5;241;43m=\u001B[39;49m\u001B[43mba_rid\u001B[49m\u001B[43m,\u001B[49m\u001B[43m \u001B[49m\u001B[43mexperiment_name\u001B[49m\u001B[38;5;241;43m=\u001B[39;49m\u001B[38;5;124;43m\"\u001B[39;49m\u001B[38;5;124;43mbacktest_analysis\u001B[39;49m\u001B[38;5;124;43m\"\u001B[39;49m\u001B[43m)\u001B[49m\n\u001B[0;32m     19\u001B[0m \u001B[38;5;28mprint\u001B[39m(recorder)\n\u001B[0;32m     20\u001B[0m pred_df \u001B[38;5;241m=\u001B[39m recorder\u001B[38;5;241m.\u001B[39mload_object(\u001B[38;5;124m\"\u001B[39m\u001B[38;5;124mpred.pkl\u001B[39m\u001B[38;5;124m\"\u001B[39m)\n",
      "File \u001B[1;32mG:\\ProgramData\\miniconda3\\envs\\qlibenv\\lib\\site-packages\\qlib\\workflow\\__init__.py:444\u001B[0m, in \u001B[0;36mQlibRecorder.get_recorder\u001B[1;34m(self, recorder_id, recorder_name, experiment_id, experiment_name)\u001B[0m\n\u001B[0;32m    379\u001B[0m \u001B[38;5;28;01mdef\u001B[39;00m \u001B[38;5;21mget_recorder\u001B[39m(\n\u001B[0;32m    380\u001B[0m     \u001B[38;5;28mself\u001B[39m,\n\u001B[0;32m    381\u001B[0m     \u001B[38;5;241m*\u001B[39m,\n\u001B[1;32m   (...)\u001B[0m\n\u001B[0;32m    385\u001B[0m     experiment_name\u001B[38;5;241m=\u001B[39m\u001B[38;5;28;01mNone\u001B[39;00m,\n\u001B[0;32m    386\u001B[0m ) \u001B[38;5;241m-\u001B[39m\u001B[38;5;241m>\u001B[39m Recorder:\n\u001B[0;32m    387\u001B[0m \u001B[38;5;250m    \u001B[39m\u001B[38;5;124;03m\"\"\"\u001B[39;00m\n\u001B[0;32m    388\u001B[0m \u001B[38;5;124;03m    Method for retrieving a recorder.\u001B[39;00m\n\u001B[0;32m    389\u001B[0m \n\u001B[1;32m   (...)\u001B[0m\n\u001B[0;32m    442\u001B[0m \u001B[38;5;124;03m    A recorder instance.\u001B[39;00m\n\u001B[0;32m    443\u001B[0m \u001B[38;5;124;03m    \"\"\"\u001B[39;00m\n\u001B[1;32m--> 444\u001B[0m     \u001B[38;5;28;01mreturn\u001B[39;00m \u001B[38;5;28;43mself\u001B[39;49m\u001B[38;5;241;43m.\u001B[39;49m\u001B[43mget_exp\u001B[49m\u001B[43m(\u001B[49m\u001B[43mexperiment_name\u001B[49m\u001B[38;5;241;43m=\u001B[39;49m\u001B[43mexperiment_name\u001B[49m\u001B[43m,\u001B[49m\u001B[43m \u001B[49m\u001B[43mexperiment_id\u001B[49m\u001B[38;5;241;43m=\u001B[39;49m\u001B[43mexperiment_id\u001B[49m\u001B[43m,\u001B[49m\u001B[43m \u001B[49m\u001B[43mcreate\u001B[49m\u001B[38;5;241;43m=\u001B[39;49m\u001B[38;5;28;43;01mFalse\u001B[39;49;00m\u001B[43m)\u001B[49m\u001B[38;5;241m.\u001B[39mget_recorder(\n\u001B[0;32m    445\u001B[0m         recorder_id, recorder_name, create\u001B[38;5;241m=\u001B[39m\u001B[38;5;28;01mFalse\u001B[39;00m, start\u001B[38;5;241m=\u001B[39m\u001B[38;5;28;01mFalse\u001B[39;00m\n\u001B[0;32m    446\u001B[0m     )\n",
      "File \u001B[1;32mG:\\ProgramData\\miniconda3\\envs\\qlibenv\\lib\\site-packages\\qlib\\workflow\\__init__.py:305\u001B[0m, in \u001B[0;36mQlibRecorder.get_exp\u001B[1;34m(self, experiment_id, experiment_name, create, start)\u001B[0m\n\u001B[0;32m    229\u001B[0m \u001B[38;5;28;01mdef\u001B[39;00m \u001B[38;5;21mget_exp\u001B[39m(\n\u001B[0;32m    230\u001B[0m     \u001B[38;5;28mself\u001B[39m, \u001B[38;5;241m*\u001B[39m, experiment_id\u001B[38;5;241m=\u001B[39m\u001B[38;5;28;01mNone\u001B[39;00m, experiment_name\u001B[38;5;241m=\u001B[39m\u001B[38;5;28;01mNone\u001B[39;00m, create: \u001B[38;5;28mbool\u001B[39m \u001B[38;5;241m=\u001B[39m \u001B[38;5;28;01mTrue\u001B[39;00m, start: \u001B[38;5;28mbool\u001B[39m \u001B[38;5;241m=\u001B[39m \u001B[38;5;28;01mFalse\u001B[39;00m\n\u001B[0;32m    231\u001B[0m ) \u001B[38;5;241m-\u001B[39m\u001B[38;5;241m>\u001B[39m Experiment:\n\u001B[0;32m    232\u001B[0m \u001B[38;5;250m    \u001B[39m\u001B[38;5;124;03m\"\"\"\u001B[39;00m\n\u001B[0;32m    233\u001B[0m \u001B[38;5;124;03m    Method for retrieving an experiment with given id or name. Once the `create` argument is set to\u001B[39;00m\n\u001B[0;32m    234\u001B[0m \u001B[38;5;124;03m    True, if no valid experiment is found, this method will create one for you. Otherwise, it will\u001B[39;00m\n\u001B[1;32m   (...)\u001B[0m\n\u001B[0;32m    303\u001B[0m \u001B[38;5;124;03m    An experiment instance with given id or name.\u001B[39;00m\n\u001B[0;32m    304\u001B[0m \u001B[38;5;124;03m    \"\"\"\u001B[39;00m\n\u001B[1;32m--> 305\u001B[0m     \u001B[38;5;28;01mreturn\u001B[39;00m \u001B[38;5;28;43mself\u001B[39;49m\u001B[38;5;241;43m.\u001B[39;49m\u001B[43mexp_manager\u001B[49m\u001B[38;5;241;43m.\u001B[39;49m\u001B[43mget_exp\u001B[49m\u001B[43m(\u001B[49m\n\u001B[0;32m    306\u001B[0m \u001B[43m        \u001B[49m\u001B[43mexperiment_id\u001B[49m\u001B[38;5;241;43m=\u001B[39;49m\u001B[43mexperiment_id\u001B[49m\u001B[43m,\u001B[49m\n\u001B[0;32m    307\u001B[0m \u001B[43m        \u001B[49m\u001B[43mexperiment_name\u001B[49m\u001B[38;5;241;43m=\u001B[39;49m\u001B[43mexperiment_name\u001B[49m\u001B[43m,\u001B[49m\n\u001B[0;32m    308\u001B[0m \u001B[43m        \u001B[49m\u001B[43mcreate\u001B[49m\u001B[38;5;241;43m=\u001B[39;49m\u001B[43mcreate\u001B[49m\u001B[43m,\u001B[49m\n\u001B[0;32m    309\u001B[0m \u001B[43m        \u001B[49m\u001B[43mstart\u001B[49m\u001B[38;5;241;43m=\u001B[39;49m\u001B[43mstart\u001B[49m\u001B[43m,\u001B[49m\n\u001B[0;32m    310\u001B[0m \u001B[43m    \u001B[49m\u001B[43m)\u001B[49m\n",
      "File \u001B[1;32mG:\\ProgramData\\miniconda3\\envs\\qlibenv\\lib\\site-packages\\qlib\\workflow\\expm.py:210\u001B[0m, in \u001B[0;36mExpManager.get_exp\u001B[1;34m(self, experiment_id, experiment_name, create, start)\u001B[0m\n\u001B[0;32m    208\u001B[0m     exp, _ \u001B[38;5;241m=\u001B[39m \u001B[38;5;28mself\u001B[39m\u001B[38;5;241m.\u001B[39m_get_or_create_exp(experiment_id\u001B[38;5;241m=\u001B[39mexperiment_id, experiment_name\u001B[38;5;241m=\u001B[39mexperiment_name)\n\u001B[0;32m    209\u001B[0m \u001B[38;5;28;01melse\u001B[39;00m:\n\u001B[1;32m--> 210\u001B[0m     exp \u001B[38;5;241m=\u001B[39m \u001B[38;5;28;43mself\u001B[39;49m\u001B[38;5;241;43m.\u001B[39;49m\u001B[43m_get_exp\u001B[49m\u001B[43m(\u001B[49m\u001B[43mexperiment_id\u001B[49m\u001B[38;5;241;43m=\u001B[39;49m\u001B[43mexperiment_id\u001B[49m\u001B[43m,\u001B[49m\u001B[43m \u001B[49m\u001B[43mexperiment_name\u001B[49m\u001B[38;5;241;43m=\u001B[39;49m\u001B[43mexperiment_name\u001B[49m\u001B[43m)\u001B[49m\n\u001B[0;32m    211\u001B[0m \u001B[38;5;28;01mif\u001B[39;00m \u001B[38;5;28mself\u001B[39m\u001B[38;5;241m.\u001B[39mactive_experiment \u001B[38;5;129;01mis\u001B[39;00m \u001B[38;5;28;01mNone\u001B[39;00m \u001B[38;5;129;01mand\u001B[39;00m start:\n\u001B[0;32m    212\u001B[0m     \u001B[38;5;28mself\u001B[39m\u001B[38;5;241m.\u001B[39mactive_experiment \u001B[38;5;241m=\u001B[39m exp\n",
      "File \u001B[1;32mG:\\ProgramData\\miniconda3\\envs\\qlibenv\\lib\\site-packages\\qlib\\workflow\\expm.py:394\u001B[0m, in \u001B[0;36mMLflowExpManager._get_exp\u001B[1;34m(self, experiment_id, experiment_name)\u001B[0m\n\u001B[0;32m    392\u001B[0m     \u001B[38;5;28;01mreturn\u001B[39;00m experiment\n\u001B[0;32m    393\u001B[0m \u001B[38;5;28;01mexcept\u001B[39;00m MlflowException \u001B[38;5;28;01mas\u001B[39;00m e:\n\u001B[1;32m--> 394\u001B[0m     \u001B[38;5;28;01mraise\u001B[39;00m \u001B[38;5;167;01mValueError\u001B[39;00m(\n\u001B[0;32m    395\u001B[0m         \u001B[38;5;124m\"\u001B[39m\u001B[38;5;124mNo valid experiment has been found, please make sure the input experiment name is correct.\u001B[39m\u001B[38;5;124m\"\u001B[39m\n\u001B[0;32m    396\u001B[0m     ) \u001B[38;5;28;01mfrom\u001B[39;00m \u001B[38;5;21;01me\u001B[39;00m\n",
      "\u001B[1;31mValueError\u001B[0m: No valid experiment has been found, please make sure the input experiment name is correct."
     ]
    }
   ],
   "source": [
    "import pandas as pd\n",
    "\n",
    "with R.start(experiment_name=\"train_model\"):\n",
    "    R.log_params(**flatten_dict(task))  # 记录参数\n",
    "    model.fit(dataset)  #拟合模型\n",
    "    R.save_objects(trained_model=model)  #保存模型\n",
    "    rid = R.get_recorder().id  #获取记录器id\n",
    "    recorder = R.get_recorder(recorder_id=rid, experiment_name=\"train_model\")\n",
    "    model = recorder.load_object(\"trained_model\")\n",
    "    # 使用SignalRecord，针对测试集数据，使用训练完的模型生成预测值；\n",
    "    # prediction\n",
    "    recorder = R.get_recorder()\n",
    "    ba_rid = recorder.id\n",
    "    sr = SignalRecord(model, dataset, recorder)\n",
    "    sr.generate()\n",
    "    from qlib.contrib.report import analysis_model, analysis_position\n",
    "\n",
    "    recorder = R.get_recorder(recorder_id=ba_rid, experiment_name=\"backtest_analysis\")\n",
    "    print(recorder)\n",
    "    pred_df = recorder.load_object(\"pred.pkl\")\n",
    "    report_normal_df = recorder.load_object(\"portfolio_analysis/report_normal_1day.pkl\")\n",
    "    positions = recorder.load_object(\"portfolio_analysis/positions_normal_1day.pkl\")\n",
    "    analysis_df = recorder.load_object(\"portfolio_analysis/port_analysis_1day.pkl\")\n",
    "    analysis_position.report_graph(report_normal_df)\n",
    "    analysis_position.risk_analysis_graph(analysis_df, report_normal_df)\n",
    "    # Analysismode\n",
    "    label_df = dataset.prepare(\"test\", col_set=\"label\")\n",
    "    label_df.columns = [\"label\"]\n",
    "    pred_label = pd.concat([label_df, pred_df], axis=1, sort=True).reindex(label_df.index)\n",
    "    analysis_position.score_ic_graph(pred_label)\n",
    "    # Model performance\n",
    "    analysis_model.model_performance_graph(pred_label)"
   ],
   "metadata": {
    "collapsed": false
   },
   "id": "afa00e2cb1787335",
   "execution_count": 11
  }
 ],
 "metadata": {
  "kernelspec": {
   "name": "qlibenv",
   "language": "python",
   "display_name": "qlibenv"
  },
  "language_info": {
   "codemirror_mode": {
    "name": "ipython",
    "version": 2
   },
   "file_extension": ".py",
   "mimetype": "text/x-python",
   "name": "python",
   "nbconvert_exporter": "python",
   "pygments_lexer": "ipython2",
   "version": "2.7.6"
  }
 },
 "nbformat": 4,
 "nbformat_minor": 5
}
